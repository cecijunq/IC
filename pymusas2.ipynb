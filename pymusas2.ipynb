{
 "cells": [
  {
   "cell_type": "code",
   "execution_count": 1,
   "metadata": {},
   "outputs": [],
   "source": [
    "import pandas as pd\n",
    "import spacy\n",
    "import os\n",
    "import matplotlib.pyplot as plt"
   ]
  },
  {
   "cell_type": "code",
   "execution_count": 2,
   "metadata": {},
   "outputs": [
    {
     "name": "stderr",
     "output_type": "stream",
     "text": [
      "/opt/homebrew/lib/python3.11/site-packages/tqdm/auto.py:21: TqdmWarning: IProgress not found. Please update jupyter and ipywidgets. See https://ipywidgets.readthedocs.io/en/stable/user_install.html\n",
      "  from .autonotebook import tqdm as notebook_tqdm\n",
      "/opt/homebrew/lib/python3.11/site-packages/pymusas/spacy_api/utils.py:38: UserWarning: Overwritten the spaCy Token extension `pymusas_tags` which currently has the following (default, method, getter, setter):`(None, None, None, None)`. And replacing it with the following:`(None, None, None, None)`. This would only become a problem if the the two Tuples of four are different, if they are the same there is no problem.\n",
      "  warnings.warn(message)\n",
      "/opt/homebrew/lib/python3.11/site-packages/pymusas/spacy_api/utils.py:38: UserWarning: Overwritten the spaCy Token extension `pymusas_mwe_indexes` which currently has the following (default, method, getter, setter):`(None, None, None, None)`. And replacing it with the following:`(None, None, None, None)`. This would only become a problem if the the two Tuples of four are different, if they are the same there is no problem.\n",
      "  warnings.warn(message)\n"
     ]
    },
    {
     "data": {
      "text/plain": [
       "<pymusas.spacy_api.taggers.rule_based.RuleBasedTagger at 0x17dec3dd0>"
      ]
     },
     "execution_count": 2,
     "metadata": {},
     "output_type": "execute_result"
    }
   ],
   "source": [
    "nlp_pt = spacy.load('pt_core_news_sm', exclude=['parser', 'ner'])\n",
    "portuguese_tagger_pipeline = spacy.load('pt_dual_upos2usas_contextual')\n",
    "nlp_pt.add_pipe('pymusas_rule_based_tagger', source=portuguese_tagger_pipeline)\n",
    "\n",
    "nlp_en = spacy.load('en_core_web_sm', exclude=['parser', 'ner'])\n",
    "english_tagger_pipeline = spacy.load('en_dual_none_contextual')\n",
    "nlp_en.add_pipe('pymusas_rule_based_tagger', source=english_tagger_pipeline)\n",
    "\n",
    "nlp_es = spacy.load('es_core_news_sm', exclude=['parser', 'ner'])\n",
    "spanish_tagger_pipeline = spacy.load('es_dual_upos2usas_contextual')\n",
    "nlp_es.add_pipe('pymusas_rule_based_tagger', source=spanish_tagger_pipeline)"
   ]
  },
  {
   "cell_type": "code",
   "execution_count": 3,
   "metadata": {},
   "outputs": [],
   "source": [
    "# Funções para processar cada texto\n",
    "def process_text(text):\n",
    "    output_doc = nlp_en(str(text))\n",
    "    result = []\n",
    "    for token in output_doc:\n",
    "        result.append({\n",
    "        'Text': token.text,\n",
    "        'Lemma': token.lemma_,\n",
    "        'POS': token.pos_,\n",
    "        'USAS Tags': token._.pymusas_tags\n",
    "        })\n",
    "    return result\n",
    "\n",
    "def process_text(text):\n",
    "    output_doc = nlp_es(str(text))\n",
    "    result = []\n",
    "    for token in output_doc:\n",
    "        result.append({\n",
    "        'Text': token.text,\n",
    "        'Lemma': token.lemma_,\n",
    "        'POS': token.pos_,\n",
    "        'USAS Tags': token._.pymusas_tags\n",
    "        })\n",
    "    return result\n",
    "\n",
    "def process_text(text):\n",
    "    output_doc = nlp_pt(str(text))\n",
    "    result = []\n",
    "    for token in output_doc:\n",
    "        result.append({\n",
    "        'Text': token.text,\n",
    "        'Lemma': token.lemma_,\n",
    "        'POS': token.pos_,\n",
    "        'USAS Tags': token._.pymusas_tags\n",
    "        })\n",
    "    return result"
   ]
  }
 ],
 "metadata": {
  "kernelspec": {
   "display_name": "Python 3",
   "language": "python",
   "name": "python3"
  },
  "language_info": {
   "codemirror_mode": {
    "name": "ipython",
    "version": 3
   },
   "file_extension": ".py",
   "mimetype": "text/x-python",
   "name": "python",
   "nbconvert_exporter": "python",
   "pygments_lexer": "ipython3",
   "version": "3.11.5"
  },
  "orig_nbformat": 4
 },
 "nbformat": 4,
 "nbformat_minor": 2
}
