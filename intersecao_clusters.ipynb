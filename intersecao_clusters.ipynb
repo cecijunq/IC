{
 "cells": [
  {
   "cell_type": "code",
   "execution_count": 1,
   "metadata": {},
   "outputs": [],
   "source": [
    "def intersection(lst1, lst2):\n",
    "    lst3 = [value for value in lst1 if value in lst2]\n",
    "    return lst3"
   ]
  },
  {
   "cell_type": "code",
   "execution_count": 7,
   "metadata": {},
   "outputs": [
    {
     "data": {
      "text/plain": [
       "['Three Billboards Outside Ebbing, Missouri.txt',\n",
       " 'Silver Linings Playbook.txt',\n",
       " 'Roman Holiday.txt',\n",
       " 'The Awful Truth.txt',\n",
       " 'An Education.txt',\n",
       " 'American Hustle.txt',\n",
       " 'Promising Young Woman.txt',\n",
       " 'Broadway Melody of 1936.txt',\n",
       " 'The Piano.txt',\n",
       " 'Norma Rae.txt',\n",
       " 'Annie Hall.txt',\n",
       " 'American Graffiti.txt',\n",
       " 'Libeled Lady.txt',\n",
       " 'All About Eve.txt',\n",
       " 'Working Girl.txt',\n",
       " 'It Happened One Night.txt',\n",
       " 'Everything Everywhere All at Once.txt',\n",
       " 'Driving Miss Daisy.txt',\n",
       " 'She Done Him Wrong.txt']"
      ]
     },
     "execution_count": 7,
     "metadata": {},
     "output_type": "execute_result"
    }
   ],
   "source": [
    "c1 = ['Peyton Place (film).txt', 'Three Billboards Outside Ebbing, Missouri.txt', 'Five Star Final.txt', 'The Accidental Tourist (film).txt', 'Marty (film).txt', 'Out of Africa (film).txt', 'The Broadway Melody.txt', 'Kramer vs. Kramer.txt', 'The Wizard of Oz.txt', 'Little Women (2019 film).txt', 'Mildred Pierce (film).txt', 'La La Land.txt', 'Chicago (2002 film).txt', 'Love Affair (1939 film).txt', 'The Prince of Tides.txt', 'Silver Linings Playbook.txt', 'Terms of Endearment.txt', 'The French Connection (film).txt', \"Prizzi's Honor.txt\", 'The Artist (film).txt', 'American Beauty (1999 film).txt', \"Guess Who's Coming to Dinner.txt\", 'Roman Holiday.txt', 'The Snake Pit.txt', 'Hold Back the Dawn.txt', 'Miracle on 34th Street.txt', 'Dark Victory.txt', 'Atlantic City (1980 film).txt', 'The Sixth Sense.txt', '42nd Street (film).txt', 'The Awful Truth.txt', 'An Education.txt', 'Boyhood (2014 film).txt', 'The Help (film).txt', 'The Kids Are All Right (film).txt', 'Funny Girl (film).txt', 'Reds (film).txt', 'A Star Is Born (1937 film).txt', 'The Blind Side (film).txt', 'Kings Row.txt', 'Julia (1977 film).txt', 'A Star Is Born (2018 film).txt', 'American Hustle.txt', 'The More the Merrier.txt', 'Tár.txt', 'Rebecca (1940 film).txt', 'The Philadelphia Story (film).txt', 'The Turning Point (1977 film).txt', 'Yankee Doodle Dandy.txt', 'The Big House (1930 film).txt', 'The Hours (film).txt', 'Promising Young Woman.txt', 'Broadway Melody of 1936.txt', 'Jezebel (1938 film).txt', 'Get Out.txt', 'The Piano.txt', 'Apollo 13 (film).txt', 'The Apartment.txt', 'Separate Tables (film).txt', 'Call Me by Your Name (film).txt', 'Doctor Zhivago (film).txt', 'Father of the Bride (1950 film).txt', 'Wings (1927 film).txt', \"The Nun's Story (film).txt\", 'Alice Adams (1935 film).txt', 'The Graduate.txt', 'Shine (film).txt', 'On Golden Pond (1981 film).txt', \"Gentleman's Agreement.txt\", 'Coming Home (1978 film).txt', \"Don't Look Up.txt\", 'Norma Rae.txt', 'In the Bedroom.txt', 'Tootsie.txt', 'Titanic (1997 film).txt', 'Gaslight (1944 film).txt', 'Spellbound (1945 film).txt', 'A Clockwork Orange (film).txt', 'The Exorcist.txt', 'A Place in the Sun (1951 film).txt', 'Born Yesterday (1950 film).txt', 'Minari (film).txt', 'Erin Brockovich (film).txt', 'Chocolat (2000 film).txt', 'Hello, Dolly! (film).txt', 'Lost in Translation (film).txt', 'The Big Chill (film).txt', 'Million Dollar Baby.txt', 'E.T. the Extra-Terrestrial.txt', 'An American in Paris (film).txt', 'One Night of Love.txt', 'Annie Hall.txt', \"You Can't Take It with You (film).txt\", 'Stage Door.txt', 'American Graffiti.txt', 'Darling (1965 film).txt', 'Sunset Boulevard (film).txt', 'As Good as It Gets.txt', 'The Verdict.txt', 'Libeled Lady.txt', 'Kiss of the Spider Woman (film).txt', 'The Color Purple (1985 film).txt', 'Up (2009 film).txt', 'Roma (2018 film).txt', 'Mary Poppins (film).txt', 'All About Eve.txt', 'West Side Story (2021 film).txt', 'Moonstruck.txt', 'Working Girl.txt', 'The Letter (1940 film).txt', 'Cries and Whispers.txt', 'The Greatest Show on Earth (film).txt', 'Marriage Story.txt', 'Kitty Foyle (film).txt', 'It Happened One Night.txt', 'Juno (film).txt', 'The Curious Case of Benjamin Button (film).txt', 'Imitation of Life (1934 film).txt', 'The Emigrants (film).txt', '7th Heaven (1927 film).txt', 'Midnight in Paris.txt', \"The Razor's Edge (1946 film).txt\", 'Gone with the Wind (film).txt', 'Alfie (1966 film).txt', 'The Little Foxes (film).txt', 'The Rose Tattoo (film).txt', 'Everything Everywhere All at Once.txt', 'Little Miss Sunshine.txt', 'Top Hat.txt', 'Love Story (1970 film).txt', 'Picnic (1955 film).txt', 'Cabaret (1972 film).txt', 'West Side Story (1961 film).txt', 'My Left Foot.txt', 'Fatal Attraction.txt', 'Nomadland.txt', 'Birdman (film).txt', 'The Magnificent Ambersons (film).txt', 'The Divorcee.txt', 'All That Jazz (film).txt', 'Driving Miss Daisy.txt', 'Five Easy Pieces.txt', 'Lady for a Day.txt', 'The Godfather Part III.txt', 'A Letter to Three Wives.txt', 'She Done Him Wrong.txt', 'Black Swan (film).txt', 'Johnny Belinda (1948 film).txt', 'Women Talking (film).txt', 'Little Women (1933 film).txt']\n",
    "c2 = ['Los emigrantes.txt', 'Atonement (película).txt', 'Barry Lyndon.txt', 'La forma del agua.txt', 'Espejismo de amor.txt', 'Three Billboards Outside Ebbing, Missouri.txt', 'Cat on a Hot Tin Roof (película).txt', 'El cielo y tú.txt', 'Sense and Sensibility (película).txt', 'In Old Chicago.txt', 'La fuerza del cariño.txt', 'The Magnificent Ambersons.txt', 'Minari.txt', 'Hello, Dolly! (película).txt', 'Melodías de Broadway.txt', 'La diligencia.txt', 'Alas (película).txt', 'Jezabel (película de 1938).txt', 'Silver Linings Playbook.txt', 'Desde que te fuiste.txt', \"Winter's Bone.txt\", 'Cabaret (película).txt', 'Dangerous Liaisons.txt', 'Hechizo de luna.txt', 'Alfie (película de 1966).txt', 'Peyton Place (película de 1957).txt', 'Out of Africa.txt', 'Gosford Park.txt', 'Amarga victoria.txt', 'The Sound of Music.txt', 'Una hora contigo.txt', 'Nacida ayer (película de 1950).txt', 'Suspicion.txt', 'A Room with a View (película de 1985).txt', 'Roman Holiday.txt', 'The Barretts of Wimpole Street.txt', 'Carta a tres esposas.txt', 'Tiburón (película).txt', 'Marty.txt', 'La vida privada de Enrique VIII.txt', 'Una noche de amor.txt', 'Moulin Rouge!.txt', 'Lo que el viento se llevó (película).txt', 'The Awful Truth.txt', 'An Education.txt', 'Ellas hablan.txt', 'Dama por un día.txt', 'Finding Neverland.txt', 'Black Swan.txt', 'Gaslight.txt', 'Moulin Rouge (película de 1952).txt', 'Erin Brockovich (película).txt', 'El curioso caso de Benjamin Button (película).txt', 'El graduado.txt', 'El violinista en el tejado (película).txt', 'Sayonara (película).txt', 'The Help.txt', 'American Hustle.txt', 'Mi pie izquierdo.txt', 'Arrowsmith (película).txt', 'La rosa tatuada (película).txt', 'West Side Story (película de 2021).txt', 'Promising Young Woman.txt', 'Broadway Melody of 1936.txt', 'Juno (película).txt', 'Chinatown (película).txt', 'The Kids Are All Right.txt', 'The Piano.txt', 'Sed de escándalo (película de 1931).txt', 'Mary Poppins (película).txt', 'Chicago (película de 2002).txt', 'Norma Rae.txt', 'Reencuentro (película).txt', 'Historia de un matrimonio.txt', 'The Turning Point.txt', 'Little Women (película de 1933).txt', 'Flirtation Walk.txt', 'La bella y la bestia (película de 1991).txt', 'El honor de los Prizzi.txt', 'La heredera (película).txt', \"You Can't Take It With You.txt\", 'Howards End.txt', 'Julia (película de 1977).txt', 'Babel (película).txt', 'The Banshees of Inisherin.txt', 'El padrino (película).txt', 'Love Story (película).txt', 'Annie Hall.txt', 'Darling (película).txt', 'American Graffiti.txt', 'David Copperfield (película de 1935).txt', 'Historia de una monja (película).txt', 'Three Coins in the Fountain (película).txt', 'Imitación de la vida.txt', 'El mago de Oz.txt', 'Libeled Lady.txt', 'Un tranvía llamado Deseo (película de 1951).txt', 'Nido de víboras.txt', 'Tú y yo (película de 1939).txt', 'All About Eve.txt', 'Sombrero de copa (película).txt', 'Working Girl.txt', 'La buena tierra (película de 1937).txt', 'It Happened One Night.txt', 'Lenny (película).txt', 'Gritos y susurros.txt', 'El color púrpura.txt', 'Belinda (película).txt', 'Naughty Marietta.txt', 'La divorciada.txt', 'A Star Is Born (película de 1937).txt', 'Coming Home (película).txt', 'Levando anclas.txt', 'Vidas truncadas (película).txt', 'Mujercitas (película de 2019).txt', 'Everything Everywhere All at Once.txt', 'Trader Horn.txt', 'El padre de la novia (película de 1950).txt', 'Tom Jones (película).txt', 'Anthony Adverse.txt', 'Driving Miss Daisy.txt', 'Testigo de cargo (película).txt', 'Siete novias para siete hermanos.txt', 'Fanny (película de 1961).txt', 'Call Me by Your Name.txt', 'El gran Ziegfeld.txt', 'She Done Him Wrong.txt', 'Atracción fatal.txt', 'Alice Adams.txt']\n",
    "\n",
    "intersection(c1, c2)"
   ]
  },
  {
   "cell_type": "code",
   "execution_count": 12,
   "metadata": {},
   "outputs": [
    {
     "data": {
      "text/plain": [
       "['Jerry Maguire.txt',\n",
       " 'The Towering Inferno.txt',\n",
       " 'Mr. Smith Goes to Washington.txt',\n",
       " 'Midnight Cowboy.txt',\n",
       " 'Field of Dreams.txt',\n",
       " 'The Shawshank Redemption.txt',\n",
       " 'Rain Man.txt',\n",
       " 'Slumdog Millionaire.txt',\n",
       " 'The Social Network.txt',\n",
       " 'On the Waterfront.txt',\n",
       " 'The Ox-Bow Incident.txt',\n",
       " 'Citizen Kane.txt',\n",
       " 'The Quiet Man.txt',\n",
       " 'Once Upon a Time in Hollywood.txt',\n",
       " 'The Fighter.txt',\n",
       " 'Beasts of the Southern Wild.txt',\n",
       " 'Inception.txt',\n",
       " 'Viva Villa!.txt',\n",
       " 'Butch Cassidy and the Sundance Kid.txt',\n",
       " 'Mississippi Burning.txt',\n",
       " 'There Will Be Blood.txt',\n",
       " 'Going My Way.txt',\n",
       " 'Good Will Hunting.txt',\n",
       " 'Tender Mercies.txt',\n",
       " 'Ordinary People.txt',\n",
       " 'No Country for Old Men.txt',\n",
       " 'Taxi Driver.txt',\n",
       " 'Ford v Ferrari.txt']"
      ]
     },
     "execution_count": 12,
     "metadata": {},
     "output_type": "execute_result"
    }
   ],
   "source": [
    "c1 = ['The Good Earth (film).txt', 'Heaven Can Wait (1978 film).txt', 'Extremely Loud & Incredibly Close (film).txt', 'Boys Town (film).txt', 'America America.txt', 'Crash (2004 film).txt', 'Jerry Maguire.txt', 'Bugsy.txt', 'The Towering Inferno.txt', 'In Old Chicago.txt', 'Mr. Smith Goes to Washington.txt', 'Midnight Cowboy.txt', 'The Godfather Part II.txt', 'Spotlight (film).txt', 'Field of Dreams.txt', 'Witness (1985 film).txt', 'Seabiscuit (film).txt', 'Traffic (2000 film).txt', 'Nebraska (film).txt', 'Seven Brides for Seven Brothers.txt', 'The Shawshank Redemption.txt', 'L.A. Confidential (film).txt', \"Winter's Bone.txt\", 'Elvis (2022 film).txt', 'The Cider House Rules (film).txt', 'Deliverance.txt', 'A Serious Man.txt', 'Selma (film).txt', 'Rain Man.txt', 'Goodfellas.txt', 'Bonnie and Clyde (film).txt', 'The Godfather.txt', 'In the Heat of the Night (film).txt', \"Coal Miner's Daughter (film).txt\", 'Lincoln (film).txt', 'Of Mice and Men (1939 film).txt', 'Dog Day Afternoon.txt', 'Ghost (1990 film).txt', 'Capote (film).txt', 'Slumdog Millionaire.txt', 'Chariots of Fire.txt', 'Cimarron (1931 film).txt', 'Ray (film).txt', 'The Social Network.txt', 'Doctor Dolittle (1967 film).txt', 'The Revenant (2015 film).txt', 'Sergeant York (film).txt', '12 Angry Men (1957 film).txt', 'The Front Page (1931 film).txt', 'Friendly Persuasion (1956 film).txt', 'On the Waterfront.txt', 'The Tree of Life (film).txt', 'Quiz Show (film).txt', 'The Martian (film).txt', 'The Fabelmans.txt', 'The Ox-Bow Incident.txt', 'Toy Story 3.txt', 'Citizen Kane.txt', 'Raging Bull.txt', 'Mr. Deeds Goes to Town.txt', 'Moneyball (film).txt', 'Gangs of New York.txt', 'The Quiet Man.txt', 'Once Upon a Time in Hollywood.txt', 'Giant (1956 film).txt', 'The Descendants.txt', 'Joker (2019 film).txt', 'Dances with Wolves.txt', 'The Fighter.txt', 'The Full Monty.txt', 'Crouching Tiger, Hidden Dragon.txt', 'Flirtation Walk.txt', 'Life of Pi (film).txt', 'The Irishman.txt', 'Brokeback Mountain.txt', 'The Music Man (1962 film).txt', 'Chinatown (1974 film).txt', '12 Years a Slave (film).txt', 'Stagecoach (1939 film).txt', 'To Kill a Mockingbird (film).txt', 'The Conversation.txt', 'Lilies of the Field (1963 film).txt', 'Forrest Gump.txt', 'The Lord of the Rings: The Two Towers.txt', 'True Grit (2010 film).txt', \"All the King's Men (1949 film).txt\", 'The Wolf of Wall Street (2013 film).txt', 'Dead End (1937 film).txt', 'Oliver! (film).txt', 'Beasts of the Southern Wild.txt', 'The Pride of the Yankees.txt', 'Avatar (2009 film).txt', 'The Defiant Ones.txt', 'How the West Was Won (film).txt', 'The Aviator (2004 film).txt', 'Trader Horn (1931 film).txt', 'Inception.txt', 'The Yearling (1946 film).txt', 'The Treasure of the Sierra Madre (film).txt', 'Fargo (1996 film).txt', 'How Green Was My Valley (film).txt', '127 Hours.txt', 'Milk (2008 American film).txt', 'Manchester by the Sea (film).txt', 'Gandhi (film).txt', 'The Great Ziegfeld.txt', 'Viva Villa!.txt', 'Butch Cassidy and the Sundance Kid.txt', 'Mississippi Burning.txt', 'Places in the Heart.txt', \"King Solomon's Mines (1950 film).txt\", 'Whiplash (2014 film).txt', 'The Sting.txt', 'Django Unchained.txt', 'The Lord of the Rings: The Fellowship of the Ring.txt', 'Sounder (film).txt', 'Green Book (film).txt', 'Pulp Fiction.txt', 'The Lord of the Rings: The Return of the King.txt', 'There Will Be Blood.txt', 'Going My Way.txt', 'The Mission (1986 film).txt', 'War Horse (film).txt', 'Skippy (film).txt', 'Lenny (film).txt', 'Arrowsmith (film).txt', 'Good Will Hunting.txt', 'Awakenings.txt', 'The Grapes of Wrath (film).txt', 'The Racket (1928 film).txt', 'Unforgiven.txt', 'Moonlight (2016 film).txt', 'The Lost Weekend.txt', 'Tender Mercies.txt', 'Ordinary People.txt', 'Shane (film).txt', 'No Country for Old Men.txt', 'Taxi Driver.txt', 'Cat on a Hot Tin Roof (1958 film).txt', \"One Flew Over the Cuckoo's Nest (film).txt\", 'The Green Mile (film).txt', 'Ford v Ferrari.txt', 'Jaws (film).txt', 'Midnight Express (film).txt', 'Scent of a Woman (1992 film).txt', 'Avatar: The Way of Water.txt', 'The Maltese Falcon (1941 film).txt']\n",
    "c2 = ['El halcón maltés (película de 1941).txt', 'Picnic (película).txt', 'Hugo (película).txt', 'Fugitivos (película de 1958).txt', 'Jerry Maguire.txt', 'El orgullo de los Yanquis.txt', 'El séptimo cielo (película).txt', 'War Horse.txt', 'The Towering Inferno.txt', 'Mr. Smith Goes to Washington.txt', 'Midnight Cowboy.txt', 'Zorba, el griego (película).txt', 'Of Mice and Men (película de 1939).txt', 'Field of Dreams.txt', 'Doctor Dolittle (película de 1967).txt', 'Kramer vs. Kramer.txt', 'Midnight Express.txt', 'Philomena.txt', 'The Shawshank Redemption.txt', 'Friendly Persuasion.txt', 'Bugsy (película de 1991).txt', 'Forja de hombres.txt', 'El príncipe de las mareas.txt', 'Double Indemnity.txt', 'El amor llamó dos veces.txt', 'Spellbound.txt', 'Frost:Nixon.txt', 'Sounder (película de 1972).txt', 'Rain Man.txt', 'The Cider House Rules.txt', 'Atlantic City (película de 1980).txt', \"Guess Who's Coming to Dinner.txt\", 'Los descendientes.txt', 'En el nombre del padre (película de 1993).txt', 'True Grit (película de 2010).txt', 'Crash (película de 2004).txt', 'Fargo (película).txt', 'Birdman o (la inesperada virtud de la ignorancia).txt', 'Manchester by the Sea (película).txt', 'Slumdog Millionaire.txt', 'Miracle on 34th Street.txt', 'The Sixth Sense.txt', 'Un gran reportaje.txt', 'Watch on the Rhine.txt', 'The Social Network.txt', 'The French Connection.txt', 'Green Book (película).txt', 'Sergeant York.txt', 'Shane.txt', 'In the Heat of the Night.txt', 'Life of Pi (película).txt', 'Forrest Gump (película).txt', 'El cielo puede esperar (película).txt', 'The Accidental Tourist.txt', 'Calle sin salida (película de 1937).txt', 'The Grapes of Wrath (película).txt', 'Nebraska (película).txt', 'El presidio.txt', 'On the Waterfront.txt', 'The Ox-Bow Incident.txt', 'Citizen Kane.txt', 'Gravity (película).txt', 'Get Out.txt', 'Buenas noches, y buena suerte.txt', 'The Apartment.txt', 'The Quiet Man.txt', 'A Place in the Sun.txt', 'Once Upon a Time in Hollywood.txt', 'La vuelta al mundo en ochenta días (película de 1956).txt', 'Pigmalión (película).txt', 'The Fighter.txt', \"Gentleman's Agreement.txt\", 'El exorcista (película).txt', \"Don't Look Up.txt\", 'Los lirios del valle.txt', 'Tootsie.txt', 'Babe.txt', 'Un americano en París.txt', 'Todos los hombres del presidente.txt', 'Capote (película).txt', 'Deliverance (película).txt', 'Horizontes perdidos (película de 1937).txt', 'My Fair Lady (película de 1964).txt', 'The Crying Game.txt', 'Scent of a Woman.txt', 'Encrucijada de odios.txt', 'Damas del teatro.txt', 'Mi vida es mi vida.txt', 'Elvis (película de 2022).txt', 'Gigante (película de 1956).txt', 'En un lugar del corazón.txt', 'Grand Hotel (película de 1932).txt', \"One Flew Over the Cuckoo's Nest.txt\", 'Unforgiven (película).txt', 'Argo (película de 2012).txt', 'Quiz Show: El dilema.txt', 'Desaparecido (película).txt', 'Joker (película).txt', '127 horas.txt', 'Extremely Loud and Incredibly Close (película).txt', 'La horda.txt', 'El irlandés.txt', 'Moneyball.txt', 'Network.txt', 'The Verdict.txt', '12 Years a Slave.txt', 'Beasts of the Southern Wild.txt', 'Dodsworth.txt', 'Mejor... imposible.txt', 'Broadcast News.txt', 'El secreto de vivir.txt', 'Inception.txt', 'Días sin huella.txt', 'L.A. Confidential.txt', 'Heaven Can Wait (película de 1943).txt', 'Skippy.txt', 'El hombre elefante (película).txt', 'The Insider.txt', 'Capitanes intrépidos.txt', 'Toro salvaje.txt', 'The Departed.txt', 'Ghost (película de 1990).txt', 'Viva Villa!.txt', 'El Gran Hotel Budapest.txt', 'Butch Cassidy and the Sundance Kid.txt', 'Vivir de ilusión.txt', 'Mississippi Burning.txt', 'La carta (película de 1940).txt', 'El tesoro de Sierra Madre (película).txt', 'Traffic (película de 2000).txt', 'The Killing Fields.txt', 'Oliver (película).txt', 'A Beautiful Mind.txt', 'El renacido.txt', 'Shine (película).txt', 'West Side Story (película de 1961).txt', 'La llegada.txt', 'There Will Be Blood.txt', 'El fugitivo (película de 1993).txt', 'Capitán Phillips.txt', 'Going My Way.txt', \"The Bishop's Wife.txt\", 'Good Will Hunting.txt', 'Little Miss Sunshine.txt', 'Anatomía de un asesinato.txt', 'Witness (película).txt', 'Here Comes Mr. Jordan.txt', 'Lost in Translation.txt', 'Tender Mercies.txt', 'Nomadland.txt', 'Ordinary People.txt', 'El despertar (película de 1946).txt', 'Apolo 13 (película).txt', 'No Country for Old Men.txt', 'Taxi Driver.txt', 'Rebecca (película).txt', 'Un sueño posible.txt', 'La señora Miniver.txt', 'Por quién doblan las campanas (película).txt', 'Piloto de pruebas (película de 1938).txt', 'Ford v Ferrari.txt', 'Whiplash (película de 2014).txt', 'Bonnie y Clyde (película).txt', 'Shakespeare in Love.txt', 'Lo que queda del día (película).txt', 'Cumbres Borrascosas (película de 1939).txt']\n",
    "intersection(c1, c2)"
   ]
  },
  {
   "cell_type": "code",
   "execution_count": 19,
   "metadata": {},
   "outputs": [
    {
     "data": {
      "text/plain": [
       "['Judgment at Nuremberg.txt',\n",
       " 'Master and Commander: The Far Side of the World.txt',\n",
       " 'A Few Good Men.txt',\n",
       " 'Apocalypse Now.txt',\n",
       " 'Top Gun: Maverick.txt',\n",
       " 'Decision Before Dawn.txt',\n",
       " 'Inglourious Basterds.txt',\n",
       " 'Raiders of the Lost Ark.txt',\n",
       " 'The Deer Hunter.txt',\n",
       " 'Saving Private Ryan.txt',\n",
       " 'Mad Max: Fury Road.txt']"
      ]
     },
     "execution_count": 19,
     "metadata": {},
     "output_type": "execute_result"
    }
   ],
   "source": [
    "c1 = ['Crossfire (film).txt', 'Black Panther (film).txt', 'Barry Lyndon.txt', 'Dunkirk (2017 film).txt', 'The Bridge on the River Kwai.txt', 'Mutiny on the Bounty (1962 film).txt', 'Hacksaw Ridge.txt', 'District 9.txt', 'From Here to Eternity.txt', 'For Whom the Bell Tolls (film).txt', 'A Beautiful Mind (film).txt', 'Casablanca (film).txt', 'Mister Roberts (1955 film).txt', 'The Killing Fields (film).txt', 'Judgment at Nuremberg.txt', 'Double Indemnity.txt', 'Broadcast News (film).txt', 'Mank.txt', 'The Hurt Locker.txt', 'Dr. Strangelove.txt', 'Airport (1970 film).txt', 'Argo (2012 film).txt', 'Captains Courageous (1937 film).txt', 'All Quiet on the Western Front (1930 film).txt', '49th Parallel (film).txt', 'Munich (2005 film).txt', 'The Russians Are Coming, the Russians Are Coming.txt', 'Master and Commander: The Far Side of the World.txt', 'A Few Good Men.txt', 'Watch on the Rhine.txt', 'Bridge of Spies (film).txt', 'Network (1976 film).txt', 'The Lives of a Bengal Lancer (film).txt', 'Apocalypse Now.txt', 'The Diary of Anne Frank (1959 film).txt', 'The Guns of Navarone (film).txt', 'Since You Went Away.txt', 'The Insider (film).txt', 'M*A*S*H (film).txt', 'The Reader (2008 film).txt', 'The Fugitive (1993 film).txt', 'Mutiny on the Bounty (1935 film).txt', 'Top Gun: Maverick.txt', 'Test Pilot (film).txt', 'JFK (film).txt', 'In the Name of the Father (film).txt', 'Missing (1982 film).txt', 'Sayonara.txt', 'The Alamo (1960 film).txt', 'Arrival (film).txt', 'The Remains of the Day (film).txt', 'The Crying Game.txt', \"All the President's Men (film).txt\", 'The Caine Mutiny (film).txt', 'The Best Years of Our Lives.txt', 'Anatomy of a Murder.txt', 'Nixon (film).txt', 'Born on the Fourth of July (film).txt', 'Foreign Correspondent (film).txt', 'The Pianist (2002 film).txt', 'I Am a Fugitive from a Chain Gang.txt', 'The Sand Pebbles (film).txt', 'The Great Dictator.txt', 'Decision Before Dawn.txt', 'Inglourious Basterds.txt', 'Star Wars (film).txt', 'Raiders of the Lost Ark.txt', 'Babel (film).txt', 'Anchors Aweigh (film).txt', 'The Shape of Water.txt', '1917 (2019 film).txt', 'The Deer Hunter.txt', 'The Departed.txt', 'In Which We Serve.txt', 'The Thin Red Line (1998 film).txt', 'All Quiet on the Western Front (2022 film).txt', 'Captain Phillips (film).txt', 'Lost Horizon (1937 film).txt', 'Battleground (film).txt', 'The Longest Day (film).txt', 'Saving Private Ryan.txt', 'Gravity (2013 film).txt', 'La Grande Illusion.txt', 'Mrs. Miniver.txt', \"A Soldier's Story.txt\", 'Mad Max: Fury Road.txt', 'Good Night, and Good Luck.txt', 'Here Comes Mr. Jordan.txt', 'Z (1969 film).txt', 'The Imitation Game.txt', \"Schindler's List.txt\", 'Patton (film).txt']\n",
    "c2 = ['Fuego en la nieve (película).txt', 'Gladiator.txt', 'El Señor de los Anillos: el retorno del Rey.txt', 'Dunkerque (película).txt', 'Historia de un soldado (película de 1984).txt', 'Patton (película).txt', 'Wò hǔ cáng lóng.txt', 'Enrique V (película de 1944).txt', 'Judgment at Nuremberg.txt', 'Disraeli (película).txt', 'Lincoln (película).txt', 'Chariots of Fire.txt', 'El Señor de los Anillos: la Comunidad del Anillo.txt', 'Foreign Correspondent.txt', 'Amadeus.txt', 'Master and Commander: The Far Side of the World.txt', 'A Few Good Men.txt', '1917 (película).txt', 'Apocalypse Now.txt', 'El puente sobre el río Kwai.txt', 'La favorita (película).txt', 'El gran dictador.txt', 'Los cañones de Navarone.txt', 'Ben-Hur (película de 1959).txt', 'El diario de Ana Frank (película).txt', 'Los mejores años de nuestra vida.txt', 'El expreso de Shanghai.txt', 'The Sand Pebbles.txt', 'Top Gun: Maverick.txt', 'El Álamo (película de 1960).txt', 'Gangs of New York.txt', 'Hamlet (película de 1948).txt', 'La delgada línea roja (película de 1998).txt', 'Casablanca (película).txt', 'Ivanhoe (película de 1952).txt', 'Ninotchka.txt', 'The Robe.txt', '49th Parallel.txt', 'Dances with Wolves.txt', 'Múnich (película).txt', 'The Full Monty.txt', 'Nacido el cuatro de julio.txt', 'Star Wars: Episodio IV - Una nueva esperanza.txt', 'The Queen.txt', 'The Greatest Show on Earth (película de 1952).txt', 'Mister Roberts.txt', 'Nicolás y Alejandra.txt', 'El último emperador.txt', 'Las zapatillas rojas (película de 1948).txt', 'Cleopatra (película de 1963).txt', 'Titanic (película de 1997).txt', 'El capitán Blood (película de 1935).txt', 'El motín del Caine.txt', 'Decision Before Dawn.txt', 'Inglourious Basterds.txt', 'Hasta el último hombre.txt', 'Los miserables (película de 2012).txt', 'The Adventures of Robin Hood.txt', 'Raiders of the Lost Ark.txt', 'La lista de Schindler.txt', 'Z (película).txt', 'The Deer Hunter.txt', 'Tess (película de 1979).txt', 'Django Unchained.txt', 'Mank (película).txt', 'El Señor de los Anillos: las dos torres.txt', 'Saving Private Ryan.txt', 'Braveheart.txt', 'Las minas del rey Salomón (película de 1950).txt', 'Sin novedad en el frente (película de 1930).txt', 'Mad Max: Fury Road.txt', 'El pianista.txt', 'Mutiny on the Bounty (película de 1962).txt', 'Mutiny on the Bounty (película de 1935).txt', 'De aquí a la eternidad.txt', 'The Martian.txt', 'Black Panther (película).txt', 'El patriota (película de 1928).txt', 'Avatar: The Way of Water.txt', 'Dr. Strangelove or: How I Learned to Stop Worrying and Love the Bomb.txt', '¡Que vienen los rusos!.txt']\n",
    "intersection(c1, c2)"
   ]
  },
  {
   "cell_type": "code",
   "execution_count": 24,
   "metadata": {},
   "outputs": [
    {
     "data": {
      "text/plain": [
       "['The Life of Emile Zola.txt']"
      ]
     },
     "execution_count": 24,
     "metadata": {},
     "output_type": "execute_result"
    }
   ],
   "source": [
    "c1 = ['The Favourite.txt', 'Philomena (film).txt', 'Nicholas and Alexandra.txt', 'Wuthering Heights (1939 film).txt', 'Babe (film).txt', 'All This, and Heaven Too.txt', 'Dangerous Liaisons.txt', 'Three Coins in the Fountain (film).txt', 'Gosford Park.txt', 'A Room with a View (1985 film).txt', 'The Sound of Music (film).txt', 'Gigi (1958 film).txt', 'The Song of Bernadette (film).txt', 'Moulin Rouge!.txt', 'Elizabeth (film).txt', 'Beauty and the Beast (1991 film).txt', 'Grand Hotel (1932 film).txt', 'East Lynne (1931 film).txt', 'The Patriot (1928 film).txt', 'Darkest Hour (film).txt', 'Lawrence of Arabia (film).txt', 'My Fair Lady (film).txt', \"It's a Wonderful Life.txt\", 'Bohemian Rhapsody (film).txt', 'The Heiress.txt', 'Tess (1979 film).txt', 'Ninotchka.txt', 'The Barretts of Wimpole Street (1934 film).txt', 'Sense and Sensibility (film).txt', 'Life Is Beautiful.txt', 'Ivanhoe (1952 film).txt', 'Hugo (film).txt', 'Dodsworth (film).txt', 'Witness for the Prosecution (1957 film).txt', 'Four Weddings and a Funeral.txt', 'The Grand Budapest Hotel.txt', 'The Red Shoes (1948 film).txt', 'Cavalcade (1933 film).txt', 'Atonement (2007 film).txt', 'Hamlet (1948 film).txt', 'Naughty Marietta (film).txt', 'The Banshees of Inisherin.txt', 'Henry V (1944 film).txt', 'Ben-Hur (1959 film).txt', 'Captain Blood (1935 film).txt', \"The King's Speech.txt\", 'A Farewell to Arms (1932 film).txt', 'Quo Vadis (1951 film).txt', 'The Adventures of Robin Hood.txt', 'The Last Emperor.txt', 'Gladiator (2000 film).txt', 'A Streetcar Named Desire (1951 film).txt', 'The Elephant Man (film).txt', 'Pygmalion (1938 film).txt', 'David Copperfield (1935 film).txt', 'The Smiling Lieutenant.txt', 'Tom Jones (1963 film).txt', 'Fiddler on the Roof (film).txt', 'Shanghai Express (film).txt', 'Heaven Can Wait (1943 film).txt', 'A Passage to India (film).txt', \"The Bishop's Wife.txt\", 'Cleopatra (1963 film).txt', 'Around the World in 80 Days (1956 film).txt', 'Braveheart.txt', 'Finding Neverland (film).txt', 'Howards End (film).txt', 'The Robe (film).txt', 'The Private Life of Henry VIII.txt', 'Moulin Rouge (1952 film).txt', 'A Man for All Seasons (1966 film).txt', 'Suspicion (1941 film).txt', 'Disraeli (1929 film).txt', 'Anthony Adverse.txt', 'The Life of Emile Zola.txt', 'Amadeus (film).txt', 'The Queen (2006 film).txt', 'Fanny (1961 film).txt', 'Les Misérables (2012 film).txt', 'One Hour with You.txt', 'Zorba the Greek (film).txt', 'Shakespeare in Love.txt']\n",
    "c2 = ['La canción de Bernadette.txt', 'The Reader.txt', 'América, América (película).txt', 'Pasaje a la India.txt', 'District 9.txt', 'Gigi.txt', 'E.T., el extraterrestre.txt', 'On Golden Pond.txt', 'Adiós a las armas (película de 1932).txt', 'A Serious Man.txt', 'The Hurt Locker.txt', 'Goodfellas.txt', 'Mildred Pierce.txt', 'The Lives of a Bengal Lancer.txt', 'Medianoche en París.txt', 'La calle 42.txt', 'El discurso del rey.txt', 'Bridge of Spies.txt', 'JFK (película).txt', '12 Angry Men (película de 1957).txt', \"All the King's Men.txt\", 'Kings Row.txt', 'El árbol de la vida (película de 2011).txt', 'Doctor Zhivago (película).txt', 'Cuatro bodas y un funeral.txt', 'Aeropuerto (película).txt', 'La conversación.txt', 'Tár.txt', 'Soy un fugitivo.txt', 'El lobo de Wall Street.txt', 'Seabiscuit.txt', 'A Man for All Seasons.txt', 'Cabalgata (película).txt', 'Mesas separadas.txt', 'Despertares.txt', 'American Beauty.txt', 'El teniente seductor.txt', 'Toy Story 3.txt', 'All That Jazz (película).txt', '¡Qué verde era mi valle!.txt', 'Qué bello es vivir.txt', 'La misión.txt', 'Reds.txt', 'In the Bedroom (película).txt', 'Up.txt', 'Elizabeth (película).txt', 'Chocolat (película de 2000).txt', 'El día más largo (película).txt', 'Milk (película).txt', 'Brokeback Mountain.txt', 'Yanqui Dandy.txt', 'To Kill a Mockingbird (película).txt', 'Million Dollar Baby.txt', 'La conquista del Oeste.txt', 'A Star Is Born (película de 2018).txt', 'Lawrence de Arabia (película).txt', 'Moonlight (película).txt', 'Bohemian Rhapsody (película).txt', 'El aviador.txt', 'Ray (película).txt', 'Selma (película).txt', 'La naranja mecánica (película).txt', 'Las horas.txt', 'Spotlight.txt', 'El beso de la mujer araña (película).txt', 'Si no amaneciera.txt', 'La vida es bella.txt', 'Boyhood.txt', 'Sangre, sudor y lágrimas (película de 1942).txt', 'El padrino II.txt', 'Gandhi (película).txt', \"Coal Miner's Daughter.txt\", 'Tarde de perros.txt', 'La gran ilusión.txt', 'The Artist.txt', 'Pulp Fiction.txt', 'Darkest Hour (película).txt', 'El golpe (película de 1973).txt', 'El filo de la navaja (película).txt', 'Sin novedad en el frente (película de 2022).txt', 'Quo vadis? (película de 1951).txt', 'Cimarrón (película de 1931).txt', 'MASH (película).txt', 'Roma (película de 2018).txt', 'La La Land (película).txt', 'The Green Mile.txt', 'Funny Girl.txt', 'Los Fabelman.txt', 'The Imitation Game.txt', 'The Life of Emile Zola.txt', 'The Philadelphia Story.txt', 'El padrino III.txt', 'La loba (película de 1941).txt', 'Avatar (película).txt', 'Sunset Boulevard (película).txt']\n",
    "intersection(c1, c2)"
   ]
  },
  {
   "cell_type": "code",
   "execution_count": 33,
   "metadata": {},
   "outputs": [
    {
     "name": "stdout",
     "output_type": "stream",
     "text": [
      "92\n",
      "81\n",
      "92\n"
     ]
    },
    {
     "data": {
      "text/plain": [
       "0.9672594437536337"
      ]
     },
     "execution_count": 33,
     "metadata": {},
     "output_type": "execute_result"
    }
   ],
   "source": [
    "from sklearn.metrics.cluster import normalized_mutual_info_score\n",
    "\n",
    "c1 = ['Crossfire (film).txt', 'Black Panther (film).txt', 'Barry Lyndon.txt', 'Dunkirk (2017 film).txt', 'The Bridge on the River Kwai.txt', 'Mutiny on the Bounty (1962 film).txt', 'Hacksaw Ridge.txt', 'District 9.txt', 'From Here to Eternity.txt', 'For Whom the Bell Tolls (film).txt', 'A Beautiful Mind (film).txt', 'Casablanca (film).txt', 'Mister Roberts (1955 film).txt', 'The Killing Fields (film).txt', 'Judgment at Nuremberg.txt', 'Double Indemnity.txt', 'Broadcast News (film).txt', 'Mank.txt', 'The Hurt Locker.txt', 'Dr. Strangelove.txt', 'Airport (1970 film).txt', 'Argo (2012 film).txt', 'Captains Courageous (1937 film).txt', 'All Quiet on the Western Front (1930 film).txt', '49th Parallel (film).txt', 'Munich (2005 film).txt', 'The Russians Are Coming, the Russians Are Coming.txt', 'Master and Commander: The Far Side of the World.txt', 'A Few Good Men.txt', 'Watch on the Rhine.txt', 'Bridge of Spies (film).txt', 'Network (1976 film).txt', 'The Lives of a Bengal Lancer (film).txt', 'Apocalypse Now.txt', 'The Diary of Anne Frank (1959 film).txt', 'The Guns of Navarone (film).txt', 'Since You Went Away.txt', 'The Insider (film).txt', 'M*A*S*H (film).txt', 'The Reader (2008 film).txt', 'The Fugitive (1993 film).txt', 'Mutiny on the Bounty (1935 film).txt', 'Top Gun: Maverick.txt', 'Test Pilot (film).txt', 'JFK (film).txt', 'In the Name of the Father (film).txt', 'Missing (1982 film).txt', 'Sayonara.txt', 'The Alamo (1960 film).txt', 'Arrival (film).txt', 'The Remains of the Day (film).txt', 'The Crying Game.txt', \"All the President's Men (film).txt\", 'The Caine Mutiny (film).txt', 'The Best Years of Our Lives.txt', 'Anatomy of a Murder.txt', 'Nixon (film).txt', 'Born on the Fourth of July (film).txt', 'Foreign Correspondent (film).txt', 'The Pianist (2002 film).txt', 'I Am a Fugitive from a Chain Gang.txt', 'The Sand Pebbles (film).txt', 'The Great Dictator.txt', 'Decision Before Dawn.txt', 'Inglourious Basterds.txt', 'Star Wars (film).txt', 'Raiders of the Lost Ark.txt', 'Babel (film).txt', 'Anchors Aweigh (film).txt', 'The Shape of Water.txt', '1917 (2019 film).txt', 'The Deer Hunter.txt', 'The Departed.txt', 'In Which We Serve.txt', 'The Thin Red Line (1998 film).txt', 'All Quiet on the Western Front (2022 film).txt', 'Captain Phillips (film).txt', 'Lost Horizon (1937 film).txt', 'Battleground (film).txt', 'The Longest Day (film).txt', 'Saving Private Ryan.txt', 'Gravity (2013 film).txt', 'La Grande Illusion.txt', 'Mrs. Miniver.txt', \"A Soldier's Story.txt\", 'Mad Max: Fury Road.txt', 'Good Night, and Good Luck.txt', 'Here Comes Mr. Jordan.txt', 'Z (1969 film).txt', 'The Imitation Game.txt', \"Schindler's List.txt\", 'Patton (film).txt']\n",
    "c2 = ['Fuego en la nieve (película).txt', 'Gladiator.txt', 'El Señor de los Anillos: el retorno del Rey.txt', 'Dunkerque (película).txt', 'Historia de un soldado (película de 1984).txt', 'Patton (película).txt', 'Wò hǔ cáng lóng.txt', 'Enrique V (película de 1944).txt', 'Judgment at Nuremberg.txt', 'Disraeli (película).txt', 'Lincoln (película).txt', 'Chariots of Fire.txt', 'El Señor de los Anillos: la Comunidad del Anillo.txt', 'Foreign Correspondent.txt', 'Amadeus.txt', 'Master and Commander: The Far Side of the World.txt', 'A Few Good Men.txt', '1917 (película).txt', 'Apocalypse Now.txt', 'El puente sobre el río Kwai.txt', 'La favorita (película).txt', 'El gran dictador.txt', 'Los cañones de Navarone.txt', 'Ben-Hur (película de 1959).txt', 'El diario de Ana Frank (película).txt', 'Los mejores años de nuestra vida.txt', 'El expreso de Shanghai.txt', 'The Sand Pebbles.txt', 'Top Gun: Maverick.txt', 'El Álamo (película de 1960).txt', 'Gangs of New York.txt', 'Hamlet (película de 1948).txt', 'La delgada línea roja (película de 1998).txt', 'Casablanca (película).txt', 'Ivanhoe (película de 1952).txt', 'Ninotchka.txt', 'The Robe.txt', '49th Parallel.txt', 'Dances with Wolves.txt', 'Múnich (película).txt', 'The Full Monty.txt', 'Nacido el cuatro de julio.txt', 'Star Wars: Episodio IV - Una nueva esperanza.txt', 'The Queen.txt', 'The Greatest Show on Earth (película de 1952).txt', 'Mister Roberts.txt', 'Nicolás y Alejandra.txt', 'El último emperador.txt', 'Las zapatillas rojas (película de 1948).txt', 'Cleopatra (película de 1963).txt', 'Titanic (película de 1997).txt', 'El capitán Blood (película de 1935).txt', 'El motín del Caine.txt', 'Decision Before Dawn.txt', 'Inglourious Basterds.txt', 'Hasta el último hombre.txt', 'Los miserables (película de 2012).txt', 'The Adventures of Robin Hood.txt', 'Raiders of the Lost Ark.txt', 'La lista de Schindler.txt', 'Z (película).txt', 'The Deer Hunter.txt', 'Tess (película de 1979).txt', 'Django Unchained.txt', 'Mank (película).txt', 'El Señor de los Anillos: las dos torres.txt', 'Saving Private Ryan.txt', 'Braveheart.txt', 'Las minas del rey Salomón (película de 1950).txt', 'Sin novedad en el frente (película de 1930).txt', 'Mad Max: Fury Road.txt', 'El pianista.txt', 'Mutiny on the Bounty (película de 1962).txt', 'Mutiny on the Bounty (película de 1935).txt', 'De aquí a la eternidad.txt', 'The Martian.txt', 'Black Panther (película).txt', 'El patriota (película de 1928).txt', 'Avatar: The Way of Water.txt', 'Dr. Strangelove or: How I Learned to Stop Worrying and Love the Bomb.txt', '¡Que vienen los rusos!.txt']\n",
    "\n",
    "print(len(c1))\n",
    "print(len(c2))\n",
    "\n",
    "for i in range(len(c1) - len(c2)):\n",
    "    c2.append(\"a\")\n",
    "print(len(c1))\n",
    "normalized_mutual_info_score(c1, c2)"
   ]
  },
  {
   "cell_type": "code",
   "execution_count": 59,
   "metadata": {},
   "outputs": [],
   "source": [
    "clusters_en = {\n",
    "0: ['Peyton Place (film).txt', 'Three Billboards Outside Ebbing, Missouri.txt', 'Five Star Final.txt', 'The Accidental Tourist (film).txt', 'Marty (film).txt', 'Out of Africa (film).txt', 'The Broadway Melody.txt', 'Kramer vs. Kramer.txt', 'The Wizard of Oz.txt', 'Little Women (2019 film).txt', 'Mildred Pierce (film).txt', 'La La Land.txt', 'Chicago (2002 film).txt', 'Love Affair (1939 film).txt', 'The Prince of Tides.txt', 'Silver Linings Playbook.txt', 'Terms of Endearment.txt', 'The French Connection (film).txt', \"Prizzi's Honor.txt\", 'The Artist (film).txt', 'American Beauty (1999 film).txt', \"Guess Who's Coming to Dinner.txt\", 'Roman Holiday.txt', 'The Snake Pit.txt', 'Hold Back the Dawn.txt', 'Miracle on 34th Street.txt', 'Dark Victory.txt', 'Atlantic City (1980 film).txt', 'The Sixth Sense.txt', '42nd Street (film).txt', 'The Awful Truth.txt', 'An Education.txt', 'Boyhood (2014 film).txt', 'The Help (film).txt', 'The Kids Are All Right (film).txt', 'Funny Girl (film).txt', 'Reds (film).txt', 'A Star Is Born (1937 film).txt', 'The Blind Side (film).txt', 'Kings Row.txt', 'Julia (1977 film).txt', 'A Star Is Born (2018 film).txt', 'American Hustle.txt', 'The More the Merrier.txt', 'Tár.txt', 'Rebecca (1940 film).txt', 'The Philadelphia Story (film).txt', 'The Turning Point (1977 film).txt', 'Yankee Doodle Dandy.txt', 'The Big House (1930 film).txt', 'The Hours (film).txt', 'Promising Young Woman.txt', 'Broadway Melody of 1936.txt', 'Jezebel (1938 film).txt', 'Get Out.txt', 'The Piano.txt', 'Apollo 13 (film).txt', 'The Apartment.txt', 'Separate Tables (film).txt', 'Call Me by Your Name (film).txt', 'Doctor Zhivago (film).txt', 'Father of the Bride (1950 film).txt', 'Wings (1927 film).txt', \"The Nun's Story (film).txt\", 'Alice Adams (1935 film).txt', 'The Graduate.txt', 'Shine (film).txt', 'On Golden Pond (1981 film).txt', \"Gentleman's Agreement.txt\", 'Coming Home (1978 film).txt', \"Don't Look Up.txt\", 'Norma Rae.txt', 'In the Bedroom.txt', 'Tootsie.txt', 'Titanic (1997 film).txt', 'Gaslight (1944 film).txt', 'Spellbound (1945 film).txt', 'A Clockwork Orange (film).txt', 'The Exorcist.txt', 'A Place in the Sun (1951 film).txt', 'Born Yesterday (1950 film).txt', 'Minari (film).txt', 'Erin Brockovich (film).txt', 'Chocolat (2000 film).txt', 'Hello, Dolly! (film).txt', 'Lost in Translation (film).txt', 'The Big Chill (film).txt', 'Million Dollar Baby.txt', 'E.T. the Extra-Terrestrial.txt', 'An American in Paris (film).txt', 'One Night of Love.txt', 'Annie Hall.txt', \"You Can't Take It with You (film).txt\", 'Stage Door.txt', 'American Graffiti.txt', 'Darling (1965 film).txt', 'Sunset Boulevard (film).txt', 'As Good as It Gets.txt', 'The Verdict.txt', 'Libeled Lady.txt', 'Kiss of the Spider Woman (film).txt', 'The Color Purple (1985 film).txt', 'Up (2009 film).txt', 'Roma (2018 film).txt', 'Mary Poppins (film).txt', 'All About Eve.txt', 'West Side Story (2021 film).txt', 'Moonstruck.txt', 'Working Girl.txt', 'The Letter (1940 film).txt', 'Cries and Whispers.txt', 'The Greatest Show on Earth (film).txt', 'Marriage Story.txt', 'Kitty Foyle (film).txt', 'It Happened One Night.txt', 'Juno (film).txt', 'The Curious Case of Benjamin Button (film).txt', 'Imitation of Life (1934 film).txt', 'The Emigrants (film).txt', '7th Heaven (1927 film).txt', 'Midnight in Paris.txt', \"The Razor's Edge (1946 film).txt\", 'Gone with the Wind (film).txt', 'Alfie (1966 film).txt', 'The Little Foxes (film).txt', 'The Rose Tattoo (film).txt', 'Everything Everywhere All at Once.txt', 'Little Miss Sunshine.txt', 'Top Hat.txt', 'Love Story (1970 film).txt', 'Picnic (1955 film).txt', 'Cabaret (1972 film).txt', 'West Side Story (1961 film).txt', 'My Left Foot.txt', 'Fatal Attraction.txt', 'Nomadland.txt', 'Birdman (film).txt', 'The Magnificent Ambersons (film).txt', 'The Divorcee.txt', 'All That Jazz (film).txt', 'Driving Miss Daisy.txt', 'Five Easy Pieces.txt', 'Lady for a Day.txt', 'The Godfather Part III.txt', 'A Letter to Three Wives.txt', 'She Done Him Wrong.txt', 'Black Swan (film).txt', 'Johnny Belinda (1948 film).txt', 'Women Talking (film).txt', 'Little Women (1933 film).txt'], \n",
    "1: ['The Good Earth (film).txt', 'Heaven Can Wait (1978 film).txt', 'Extremely Loud & Incredibly Close (film).txt', 'Boys Town (film).txt', 'America America.txt', 'Crash (2004 film).txt', 'Jerry Maguire.txt', 'Bugsy.txt', 'The Towering Inferno.txt', 'In Old Chicago.txt', 'Mr. Smith Goes to Washington.txt', 'Midnight Cowboy.txt', 'The Godfather Part II.txt', 'Spotlight (film).txt', 'Field of Dreams.txt', 'Witness (1985 film).txt', 'Seabiscuit (film).txt', 'Traffic (2000 film).txt', 'Nebraska (film).txt', 'Seven Brides for Seven Brothers.txt', 'The Shawshank Redemption.txt', 'L.A. Confidential (film).txt', \"Winter's Bone.txt\", 'Elvis (2022 film).txt', 'The Cider House Rules (film).txt', 'Deliverance.txt', 'A Serious Man.txt', 'Selma (film).txt', 'Rain Man.txt', 'Goodfellas.txt', 'Bonnie and Clyde (film).txt', 'The Godfather.txt', 'In the Heat of the Night (film).txt', \"Coal Miner's Daughter (film).txt\", 'Lincoln (film).txt', 'Of Mice and Men (1939 film).txt', 'Dog Day Afternoon.txt', 'Ghost (1990 film).txt', 'Capote (film).txt', 'Slumdog Millionaire.txt', 'Chariots of Fire.txt', 'Cimarron (1931 film).txt', 'Ray (film).txt', 'The Social Network.txt', 'Doctor Dolittle (1967 film).txt', 'The Revenant (2015 film).txt', 'Sergeant York (film).txt', '12 Angry Men (1957 film).txt', 'The Front Page (1931 film).txt', 'Friendly Persuasion (1956 film).txt', 'On the Waterfront.txt', 'The Tree of Life (film).txt', 'Quiz Show (film).txt', 'The Martian (film).txt', 'The Fabelmans.txt', 'The Ox-Bow Incident.txt', 'Toy Story 3.txt', 'Citizen Kane.txt', 'Raging Bull.txt', 'Mr. Deeds Goes to Town.txt', 'Moneyball (film).txt', 'Gangs of New York.txt', 'The Quiet Man.txt', 'Once Upon a Time in Hollywood.txt', 'Giant (1956 film).txt', 'The Descendants.txt', 'Joker (2019 film).txt', 'Dances with Wolves.txt', 'The Fighter.txt', 'The Full Monty.txt', 'Crouching Tiger, Hidden Dragon.txt', 'Flirtation Walk.txt', 'Life of Pi (film).txt', 'The Irishman.txt', 'Brokeback Mountain.txt', 'The Music Man (1962 film).txt', 'Chinatown (1974 film).txt', '12 Years a Slave (film).txt', 'Stagecoach (1939 film).txt', 'To Kill a Mockingbird (film).txt', 'The Conversation.txt', 'Lilies of the Field (1963 film).txt', 'Forrest Gump.txt', 'The Lord of the Rings: The Two Towers.txt', 'True Grit (2010 film).txt', \"All the King's Men (1949 film).txt\", 'The Wolf of Wall Street (2013 film).txt', 'Dead End (1937 film).txt', 'Oliver! (film).txt', 'Beasts of the Southern Wild.txt', 'The Pride of the Yankees.txt', 'Avatar (2009 film).txt', 'The Defiant Ones.txt', 'How the West Was Won (film).txt', 'The Aviator (2004 film).txt', 'Trader Horn (1931 film).txt', 'Inception.txt', 'The Yearling (1946 film).txt', 'The Treasure of the Sierra Madre (film).txt', 'Fargo (1996 film).txt', 'How Green Was My Valley (film).txt', '127 Hours.txt', 'Milk (2008 American film).txt', 'Manchester by the Sea (film).txt', 'Gandhi (film).txt', 'The Great Ziegfeld.txt', 'Viva Villa!.txt', 'Butch Cassidy and the Sundance Kid.txt', 'Mississippi Burning.txt', 'Places in the Heart.txt', \"King Solomon's Mines (1950 film).txt\", 'Whiplash (2014 film).txt', 'The Sting.txt', 'Django Unchained.txt', 'The Lord of the Rings: The Fellowship of the Ring.txt', 'Sounder (film).txt', 'Green Book (film).txt', 'Pulp Fiction.txt', 'The Lord of the Rings: The Return of the King.txt', 'There Will Be Blood.txt', 'Going My Way.txt', 'The Mission (1986 film).txt', 'War Horse (film).txt', 'Skippy (film).txt', 'Lenny (film).txt', 'Arrowsmith (film).txt', 'Good Will Hunting.txt', 'Awakenings.txt', 'The Grapes of Wrath (film).txt', 'The Racket (1928 film).txt', 'Unforgiven.txt', 'Moonlight (2016 film).txt', 'The Lost Weekend.txt', 'Tender Mercies.txt', 'Ordinary People.txt', 'Shane (film).txt', 'No Country for Old Men.txt', 'Taxi Driver.txt', 'Cat on a Hot Tin Roof (1958 film).txt', \"One Flew Over the Cuckoo's Nest (film).txt\", 'The Green Mile (film).txt', 'Ford v Ferrari.txt', 'Jaws (film).txt', 'Midnight Express (film).txt', 'Scent of a Woman (1992 film).txt', 'Avatar: The Way of Water.txt', 'The Maltese Falcon (1941 film).txt'], \n",
    "2: ['Crossfire (film).txt', 'Black Panther (film).txt', 'Barry Lyndon.txt', 'Dunkirk (2017 film).txt', 'The Bridge on the River Kwai.txt', 'Mutiny on the Bounty (1962 film).txt', 'Hacksaw Ridge.txt', 'District 9.txt', 'From Here to Eternity.txt', 'For Whom the Bell Tolls (film).txt', 'A Beautiful Mind (film).txt', 'Casablanca (film).txt', 'Mister Roberts (1955 film).txt', 'The Killing Fields (film).txt', 'Judgment at Nuremberg.txt', 'Double Indemnity.txt', 'Broadcast News (film).txt', 'Mank.txt', 'The Hurt Locker.txt', 'Dr. Strangelove.txt', 'Airport (1970 film).txt', 'Argo (2012 film).txt', 'Captains Courageous (1937 film).txt', 'All Quiet on the Western Front (1930 film).txt', '49th Parallel (film).txt', 'Munich (2005 film).txt', 'The Russians Are Coming, the Russians Are Coming.txt', 'Master and Commander: The Far Side of the World.txt', 'A Few Good Men.txt', 'Watch on the Rhine.txt', 'Bridge of Spies (film).txt', 'Network (1976 film).txt', 'The Lives of a Bengal Lancer (film).txt', 'Apocalypse Now.txt', 'The Diary of Anne Frank (1959 film).txt', 'The Guns of Navarone (film).txt', 'Since You Went Away.txt', 'The Insider (film).txt', 'M*A*S*H (film).txt', 'The Reader (2008 film).txt', 'The Fugitive (1993 film).txt', 'Mutiny on the Bounty (1935 film).txt', 'Top Gun: Maverick.txt', 'Test Pilot (film).txt', 'JFK (film).txt', 'In the Name of the Father (film).txt', 'Missing (1982 film).txt', 'Sayonara.txt', 'The Alamo (1960 film).txt', 'Arrival (film).txt', 'The Remains of the Day (film).txt', 'The Crying Game.txt', \"All the President's Men (film).txt\", 'The Caine Mutiny (film).txt', 'The Best Years of Our Lives.txt', 'Anatomy of a Murder.txt', 'Nixon (film).txt', 'Born on the Fourth of July (film).txt', 'Foreign Correspondent (film).txt', 'The Pianist (2002 film).txt', 'I Am a Fugitive from a Chain Gang.txt', 'The Sand Pebbles (film).txt', 'The Great Dictator.txt', 'Decision Before Dawn.txt', 'Inglourious Basterds.txt', 'Star Wars (film).txt', 'Raiders of the Lost Ark.txt', 'Babel (film).txt', 'Anchors Aweigh (film).txt', 'The Shape of Water.txt', '1917 (2019 film).txt', 'The Deer Hunter.txt', 'The Departed.txt', 'In Which We Serve.txt', 'The Thin Red Line (1998 film).txt', 'All Quiet on the Western Front (2022 film).txt', 'Captain Phillips (film).txt', 'Lost Horizon (1937 film).txt', 'Battleground (film).txt', 'The Longest Day (film).txt', 'Saving Private Ryan.txt', 'Gravity (2013 film).txt', 'La Grande Illusion.txt', 'Mrs. Miniver.txt', \"A Soldier's Story.txt\", 'Mad Max: Fury Road.txt', 'Good Night, and Good Luck.txt', 'Here Comes Mr. Jordan.txt', 'Z (1969 film).txt', 'The Imitation Game.txt', \"Schindler's List.txt\", 'Patton (film).txt'], \n",
    "3: ['The Favourite.txt', 'Philomena (film).txt', 'Nicholas and Alexandra.txt', 'Wuthering Heights (1939 film).txt', 'Babe (film).txt', 'All This, and Heaven Too.txt', 'Dangerous Liaisons.txt', 'Three Coins in the Fountain (film).txt', 'Gosford Park.txt', 'A Room with a View (1985 film).txt', 'The Sound of Music (film).txt', 'Gigi (1958 film).txt', 'The Song of Bernadette (film).txt', 'Moulin Rouge!.txt', 'Elizabeth (film).txt', 'Beauty and the Beast (1991 film).txt', 'Grand Hotel (1932 film).txt', 'East Lynne (1931 film).txt', 'The Patriot (1928 film).txt', 'Darkest Hour (film).txt', 'Lawrence of Arabia (film).txt', 'My Fair Lady (film).txt', \"It's a Wonderful Life.txt\", 'Bohemian Rhapsody (film).txt', 'The Heiress.txt', 'Tess (1979 film).txt', 'Ninotchka.txt', 'The Barretts of Wimpole Street (1934 film).txt', 'Sense and Sensibility (film).txt', 'Life Is Beautiful.txt', 'Ivanhoe (1952 film).txt', 'Hugo (film).txt', 'Dodsworth (film).txt', 'Witness for the Prosecution (1957 film).txt', 'Four Weddings and a Funeral.txt', 'The Grand Budapest Hotel.txt', 'The Red Shoes (1948 film).txt', 'Cavalcade (1933 film).txt', 'Atonement (2007 film).txt', 'Hamlet (1948 film).txt', 'Naughty Marietta (film).txt', 'The Banshees of Inisherin.txt', 'Henry V (1944 film).txt', 'Ben-Hur (1959 film).txt', 'Captain Blood (1935 film).txt', \"The King's Speech.txt\", 'A Farewell to Arms (1932 film).txt', 'Quo Vadis (1951 film).txt', 'The Adventures of Robin Hood.txt', 'The Last Emperor.txt', 'Gladiator (2000 film).txt', 'A Streetcar Named Desire (1951 film).txt', 'The Elephant Man (film).txt', 'Pygmalion (1938 film).txt', 'David Copperfield (1935 film).txt', 'The Smiling Lieutenant.txt', 'Tom Jones (1963 film).txt', 'Fiddler on the Roof (film).txt', 'Shanghai Express (film).txt', 'Heaven Can Wait (1943 film).txt', 'A Passage to India (film).txt', \"The Bishop's Wife.txt\", 'Cleopatra (1963 film).txt', 'Around the World in 80 Days (1956 film).txt', 'Braveheart.txt', 'Finding Neverland (film).txt', 'Howards End (film).txt', 'The Robe (film).txt', 'The Private Life of Henry VIII.txt', 'Moulin Rouge (1952 film).txt', 'A Man for All Seasons (1966 film).txt', 'Suspicion (1941 film).txt', 'Disraeli (1929 film).txt', 'Anthony Adverse.txt', 'The Life of Emile Zola.txt', 'Amadeus (film).txt', 'The Queen (2006 film).txt', 'Fanny (1961 film).txt', 'Les Misérables (2012 film).txt', 'One Hour with You.txt', 'Zorba the Greek (film).txt', 'Shakespeare in Love.txt']\n",
    "}\n",
    "\n",
    "\n",
    "clusters_es = {\n",
    "0: ['El halcón maltés (película de 1941).txt', 'Picnic (película).txt', 'Hugo (película).txt', 'Fugitivos (película de 1958).txt', 'Jerry Maguire.txt', 'El orgullo de los Yanquis.txt', 'El séptimo cielo (película).txt', 'War Horse.txt', 'The Towering Inferno.txt', 'Mr. Smith Goes to Washington.txt', 'Midnight Cowboy.txt', 'Zorba, el griego (película).txt', 'Of Mice and Men (película de 1939).txt', 'Field of Dreams.txt', 'Doctor Dolittle (película de 1967).txt', 'Kramer vs. Kramer.txt', 'Midnight Express.txt', 'Philomena.txt', 'The Shawshank Redemption.txt', 'Friendly Persuasion.txt', 'Bugsy (película de 1991).txt', 'Forja de hombres.txt', 'El príncipe de las mareas.txt', 'Double Indemnity.txt', 'El amor llamó dos veces.txt', 'Spellbound.txt', 'Frost:Nixon.txt', 'Sounder (película de 1972).txt', 'Rain Man.txt', 'The Cider House Rules.txt', 'Atlantic City (película de 1980).txt', \"Guess Who's Coming to Dinner.txt\", 'Los descendientes.txt', 'En el nombre del padre (película de 1993).txt', 'True Grit (película de 2010).txt', 'Crash (película de 2004).txt', 'Fargo (película).txt', 'Birdman o (la inesperada virtud de la ignorancia).txt', 'Manchester by the Sea (película).txt', 'Slumdog Millionaire.txt', 'Miracle on 34th Street.txt', 'The Sixth Sense.txt', 'Un gran reportaje.txt', 'Watch on the Rhine.txt', 'The Social Network.txt', 'The French Connection.txt', 'Green Book (película).txt', 'Sergeant York.txt', 'Shane.txt', 'In the Heat of the Night.txt', 'Life of Pi (película).txt', 'Forrest Gump (película).txt', 'El cielo puede esperar (película).txt', 'The Accidental Tourist.txt', 'Calle sin salida (película de 1937).txt', 'The Grapes of Wrath (película).txt', 'Nebraska (película).txt', 'El presidio.txt', 'On the Waterfront.txt', 'The Ox-Bow Incident.txt', 'Citizen Kane.txt', 'Gravity (película).txt', 'Get Out.txt', 'Buenas noches, y buena suerte.txt', 'The Apartment.txt', 'The Quiet Man.txt', 'A Place in the Sun.txt', 'Once Upon a Time in Hollywood.txt', 'La vuelta al mundo en ochenta días (película de 1956).txt', 'Pigmalión (película).txt', 'The Fighter.txt', \"Gentleman's Agreement.txt\", 'El exorcista (película).txt', \"Don't Look Up.txt\", 'Los lirios del valle.txt', 'Tootsie.txt', 'Babe.txt', 'Un americano en París.txt', 'Todos los hombres del presidente.txt', 'Capote (película).txt', 'Deliverance (película).txt', 'Horizontes perdidos (película de 1937).txt', 'My Fair Lady (película de 1964).txt', 'The Crying Game.txt', 'Scent of a Woman.txt', 'Encrucijada de odios.txt', 'Damas del teatro.txt', 'Mi vida es mi vida.txt', 'Elvis (película de 2022).txt', 'Gigante (película de 1956).txt', 'En un lugar del corazón.txt', 'Grand Hotel (película de 1932).txt', \"One Flew Over the Cuckoo's Nest.txt\", 'Unforgiven (película).txt', 'Argo (película de 2012).txt', 'Quiz Show: El dilema.txt', 'Desaparecido (película).txt', 'Joker (película).txt', '127 horas.txt', 'Extremely Loud and Incredibly Close (película).txt', 'La horda.txt', 'El irlandés.txt', 'Moneyball.txt', 'Network.txt', 'The Verdict.txt', '12 Years a Slave.txt', 'Beasts of the Southern Wild.txt', 'Dodsworth.txt', 'Mejor... imposible.txt', 'Broadcast News.txt', 'El secreto de vivir.txt', 'Inception.txt', 'Días sin huella.txt', 'L.A. Confidential.txt', 'Heaven Can Wait (película de 1943).txt', 'Skippy.txt', 'El hombre elefante (película).txt', 'The Insider.txt', 'Capitanes intrépidos.txt', 'Toro salvaje.txt', 'The Departed.txt', 'Ghost (película de 1990).txt', 'Viva Villa!.txt', 'El Gran Hotel Budapest.txt', 'Butch Cassidy and the Sundance Kid.txt', 'Vivir de ilusión.txt', 'Mississippi Burning.txt', 'La carta (película de 1940).txt', 'El tesoro de Sierra Madre (película).txt', 'Traffic (película de 2000).txt', 'The Killing Fields.txt', 'Oliver (película).txt', 'A Beautiful Mind.txt', 'El renacido.txt', 'Shine (película).txt', 'West Side Story (película de 1961).txt', 'La llegada.txt', 'There Will Be Blood.txt', 'El fugitivo (película de 1993).txt', 'Capitán Phillips.txt', 'Going My Way.txt', \"The Bishop's Wife.txt\", 'Good Will Hunting.txt', 'Little Miss Sunshine.txt', 'Anatomía de un asesinato.txt', 'Witness (película).txt', 'Here Comes Mr. Jordan.txt', 'Lost in Translation.txt', 'Tender Mercies.txt', 'Nomadland.txt', 'Ordinary People.txt', 'El despertar (película de 1946).txt', 'Apolo 13 (película).txt', 'No Country for Old Men.txt', 'Taxi Driver.txt', 'Rebecca (película).txt', 'Un sueño posible.txt', 'La señora Miniver.txt', 'Por quién doblan las campanas (película).txt', 'Piloto de pruebas (película de 1938).txt', 'Ford v Ferrari.txt', 'Whiplash (película de 2014).txt', 'Bonnie y Clyde (película).txt', 'Shakespeare in Love.txt', 'Lo que queda del día (película).txt', 'Cumbres Borrascosas (película de 1939).txt'], \n",
    "1: ['Fuego en la nieve (película).txt', 'Gladiator.txt', 'El Señor de los Anillos: el retorno del Rey.txt', 'Dunkerque (película).txt', 'Historia de un soldado (película de 1984).txt', 'Patton (película).txt', 'Wò hǔ cáng lóng.txt', 'Enrique V (película de 1944).txt', 'Judgment at Nuremberg.txt', 'Disraeli (película).txt', 'Lincoln (película).txt', 'Chariots of Fire.txt', 'El Señor de los Anillos: la Comunidad del Anillo.txt', 'Foreign Correspondent.txt', 'Amadeus.txt', 'Master and Commander: The Far Side of the World.txt', 'A Few Good Men.txt', '1917 (película).txt', 'Apocalypse Now.txt', 'El puente sobre el río Kwai.txt', 'La favorita (película).txt', 'El gran dictador.txt', 'Los cañones de Navarone.txt', 'Ben-Hur (película de 1959).txt', 'El diario de Ana Frank (película).txt', 'Los mejores años de nuestra vida.txt', 'El expreso de Shanghai.txt', 'The Sand Pebbles.txt', 'Top Gun: Maverick.txt', 'El Álamo (película de 1960).txt', 'Gangs of New York.txt', 'Hamlet (película de 1948).txt', 'La delgada línea roja (película de 1998).txt', 'Casablanca (película).txt', 'Ivanhoe (película de 1952).txt', 'Ninotchka.txt', 'The Robe.txt', '49th Parallel.txt', 'Dances with Wolves.txt', 'Múnich (película).txt', 'The Full Monty.txt', 'Nacido el cuatro de julio.txt', 'Star Wars: Episodio IV - Una nueva esperanza.txt', 'The Queen.txt', 'The Greatest Show on Earth (película de 1952).txt', 'Mister Roberts.txt', 'Nicolás y Alejandra.txt', 'El último emperador.txt', 'Las zapatillas rojas (película de 1948).txt', 'Cleopatra (película de 1963).txt', 'Titanic (película de 1997).txt', 'El capitán Blood (película de 1935).txt', 'El motín del Caine.txt', 'Decision Before Dawn.txt', 'Inglourious Basterds.txt', 'Hasta el último hombre.txt', 'Los miserables (película de 2012).txt', 'The Adventures of Robin Hood.txt', 'Raiders of the Lost Ark.txt', 'La lista de Schindler.txt', 'Z (película).txt', 'The Deer Hunter.txt', 'Tess (película de 1979).txt', 'Django Unchained.txt', 'Mank (película).txt', 'El Señor de los Anillos: las dos torres.txt', 'Saving Private Ryan.txt', 'Braveheart.txt', 'Las minas del rey Salomón (película de 1950).txt', 'Sin novedad en el frente (película de 1930).txt', 'Mad Max: Fury Road.txt', 'El pianista.txt', 'Mutiny on the Bounty (película de 1962).txt', 'Mutiny on the Bounty (película de 1935).txt', 'De aquí a la eternidad.txt', 'The Martian.txt', 'Black Panther (película).txt', 'El patriota (película de 1928).txt', 'Avatar: The Way of Water.txt', 'Dr. Strangelove or: How I Learned to Stop Worrying and Love the Bomb.txt', '¡Que vienen los rusos!.txt'],\n",
    "2: ['Los emigrantes.txt', 'Atonement (película).txt', 'Barry Lyndon.txt', 'La forma del agua.txt', 'Espejismo de amor.txt', 'Three Billboards Outside Ebbing, Missouri.txt', 'Cat on a Hot Tin Roof (película).txt', 'El cielo y tú.txt', 'Sense and Sensibility (película).txt', 'In Old Chicago.txt', 'La fuerza del cariño.txt', 'The Magnificent Ambersons.txt', 'Minari.txt', 'Hello, Dolly! (película).txt', 'Melodías de Broadway.txt', 'La diligencia.txt', 'Alas (película).txt', 'Jezabel (película de 1938).txt', 'Silver Linings Playbook.txt', 'Desde que te fuiste.txt', \"Winter's Bone.txt\", 'Cabaret (película).txt', 'Dangerous Liaisons.txt', 'Hechizo de luna.txt', 'Alfie (película de 1966).txt', 'Peyton Place (película de 1957).txt', 'Out of Africa.txt', 'Gosford Park.txt', 'Amarga victoria.txt', 'The Sound of Music.txt', 'Una hora contigo.txt', 'Nacida ayer (película de 1950).txt', 'Suspicion.txt', 'A Room with a View (película de 1985).txt', 'Roman Holiday.txt', 'The Barretts of Wimpole Street.txt', 'Carta a tres esposas.txt', 'Tiburón (película).txt', 'Marty.txt', 'La vida privada de Enrique VIII.txt', 'Una noche de amor.txt', 'Moulin Rouge!.txt', 'Lo que el viento se llevó (película).txt', 'The Awful Truth.txt', 'An Education.txt', 'Ellas hablan.txt', 'Dama por un día.txt', 'Finding Neverland.txt', 'Black Swan.txt', 'Gaslight.txt', 'Moulin Rouge (película de 1952).txt', 'Erin Brockovich (película).txt', 'El curioso caso de Benjamin Button (película).txt', 'El graduado.txt', 'El violinista en el tejado (película).txt', 'Sayonara (película).txt', 'The Help.txt', 'American Hustle.txt', 'Mi pie izquierdo.txt', 'Arrowsmith (película).txt', 'La rosa tatuada (película).txt', 'West Side Story (película de 2021).txt', 'Promising Young Woman.txt', 'Broadway Melody of 1936.txt', 'Juno (película).txt', 'Chinatown (película).txt', 'The Kids Are All Right.txt', 'The Piano.txt', 'Sed de escándalo (película de 1931).txt', 'Mary Poppins (película).txt', 'Chicago (película de 2002).txt', 'Norma Rae.txt', 'Reencuentro (película).txt', 'Historia de un matrimonio.txt', 'The Turning Point.txt', 'Little Women (película de 1933).txt', 'Flirtation Walk.txt', 'La bella y la bestia (película de 1991).txt', 'El honor de los Prizzi.txt', 'La heredera (película).txt', \"You Can't Take It With You.txt\", 'Howards End.txt', 'Julia (película de 1977).txt', 'Babel (película).txt', 'The Banshees of Inisherin.txt', 'El padrino (película).txt', 'Love Story (película).txt', 'Annie Hall.txt', 'Darling (película).txt', 'American Graffiti.txt', 'David Copperfield (película de 1935).txt', 'Historia de una monja (película).txt', 'Three Coins in the Fountain (película).txt', 'Imitación de la vida.txt', 'El mago de Oz.txt', 'Libeled Lady.txt', 'Un tranvía llamado Deseo (película de 1951).txt', 'Nido de víboras.txt', 'Tú y yo (película de 1939).txt', 'All About Eve.txt', 'Sombrero de copa (película).txt', 'Working Girl.txt', 'La buena tierra (película de 1937).txt', 'It Happened One Night.txt', 'Lenny (película).txt', 'Gritos y susurros.txt', 'El color púrpura.txt', 'Belinda (película).txt', 'Naughty Marietta.txt', 'La divorciada.txt', 'A Star Is Born (película de 1937).txt', 'Coming Home (película).txt', 'Levando anclas.txt', 'Vidas truncadas (película).txt', 'Mujercitas (película de 2019).txt', 'Everything Everywhere All at Once.txt', 'Trader Horn.txt', 'El padre de la novia (película de 1950).txt', 'Tom Jones (película).txt', 'Anthony Adverse.txt', 'Driving Miss Daisy.txt', 'Testigo de cargo (película).txt', 'Siete novias para siete hermanos.txt', 'Fanny (película de 1961).txt', 'Call Me by Your Name.txt', 'El gran Ziegfeld.txt', 'She Done Him Wrong.txt', 'Atracción fatal.txt', 'Alice Adams.txt'], \n",
    "3: ['La canción de Bernadette.txt', 'The Reader.txt', 'América, América (película).txt', 'Pasaje a la India.txt', 'District 9.txt', 'Gigi.txt', 'E.T., el extraterrestre.txt', 'On Golden Pond.txt', 'Adiós a las armas (película de 1932).txt', 'A Serious Man.txt', 'The Hurt Locker.txt', 'Goodfellas.txt', 'Mildred Pierce.txt', 'The Lives of a Bengal Lancer.txt', 'Medianoche en París.txt', 'La calle 42.txt', 'El discurso del rey.txt', 'Bridge of Spies.txt', 'JFK (película).txt', '12 Angry Men (película de 1957).txt', \"All the King's Men.txt\", 'Kings Row.txt', 'El árbol de la vida (película de 2011).txt', 'Doctor Zhivago (película).txt', 'Cuatro bodas y un funeral.txt', 'Aeropuerto (película).txt', 'La conversación.txt', 'Tár.txt', 'Soy un fugitivo.txt', 'El lobo de Wall Street.txt', 'Seabiscuit.txt', 'A Man for All Seasons.txt', 'Cabalgata (película).txt', 'Mesas separadas.txt', 'Despertares.txt', 'American Beauty.txt', 'El teniente seductor.txt', 'Toy Story 3.txt', 'All That Jazz (película).txt', '¡Qué verde era mi valle!.txt', 'Qué bello es vivir.txt', 'La misión.txt', 'Reds.txt', 'In the Bedroom (película).txt', 'Up.txt', 'Elizabeth (película).txt', 'Chocolat (película de 2000).txt', 'El día más largo (película).txt', 'Milk (película).txt', 'Brokeback Mountain.txt', 'Yanqui Dandy.txt', 'To Kill a Mockingbird (película).txt', 'Million Dollar Baby.txt', 'La conquista del Oeste.txt', 'A Star Is Born (película de 2018).txt', 'Lawrence de Arabia (película).txt', 'Moonlight (película).txt', 'Bohemian Rhapsody (película).txt', 'El aviador.txt', 'Ray (película).txt', 'Selma (película).txt', 'La naranja mecánica (película).txt', 'Las horas.txt', 'Spotlight.txt', 'El beso de la mujer araña (película).txt', 'Si no amaneciera.txt', 'La vida es bella.txt', 'Boyhood.txt', 'Sangre, sudor y lágrimas (película de 1942).txt', 'El padrino II.txt', 'Gandhi (película).txt', \"Coal Miner's Daughter.txt\", 'Tarde de perros.txt', 'La gran ilusión.txt', 'The Artist.txt', 'Pulp Fiction.txt', 'Darkest Hour (película).txt', 'El golpe (película de 1973).txt', 'El filo de la navaja (película).txt', 'Sin novedad en el frente (película de 2022).txt', 'Quo vadis? (película de 1951).txt', 'Cimarrón (película de 1931).txt', 'MASH (película).txt', 'Roma (película de 2018).txt', 'La La Land (película).txt', 'The Green Mile.txt', 'Funny Girl.txt', 'Los Fabelman.txt', 'The Imitation Game.txt', 'The Life of Emile Zola.txt', 'The Philadelphia Story.txt', 'El padrino III.txt', 'La loba (película de 1941).txt', 'Avatar (película).txt', 'Sunset Boulevard (película).txt'], \n",
    "}\n",
    "\n",
    "\n",
    "clusters_pt = {\n",
    "0: ['Quo Vadis (1951).txt', 'Spotlight (filme).txt', \"All the President's Men.txt\", 'Barry Lyndon.txt', 'A Lista de Schindler.txt', 'Moulin Rouge (1952).txt', 'Hacksaw Ridge.txt', 'Nicholas and Alexandra.txt', 'Munique (filme).txt', 'O Senhor dos Anéis: As Duas Torres.txt', 'The Godfather Part II.txt', 'Um Sonho Possível.txt', 'Hamlet (filme de 1948).txt', 'Field of Dreams.txt', 'Gone with the Wind.txt', 'The Shawshank Redemption.txt', \"Winter's Bone.txt\", 'Capitão Phillips.txt', 'Green Book.txt', 'Little Women (2019).txt', 'Out of Africa.txt', 'No Country for Old Men (filme).txt', 'The Cider House Rules.txt', 'The Godfather.txt', 'O Segredo de Brokeback Mountain.txt', 'The Sound of Music.txt', 'Era uma Vez em... Hollywood.txt', 'Up (filme).txt', 'A Star Is Born (1937).txt', 'O Resgate do Soldado Ryan.txt', 'Dunkirk (filme).txt', 'Gravidade (filme).txt', 'O Leitor.txt', 'The Wizard of Oz (1939).txt', 'Slumdog Millionaire.txt', 'Missing - O Desaparecido.txt', 'Bridge of Spies.txt', 'Amadeus.txt', 'Master and Commander: The Far Side of the World.txt', 'Sargento York.txt', 'Gladiador (filme).txt', 'Captains Courageous.txt', 'O Pianista.txt', 'Apocalypse Now.txt', 'The Help (filme).txt', 'Shane.txt', 'American Hustle.txt', 'Moonlight (filme).txt', 'A Origem.txt', 'On the Waterfront.txt', \"It's a Wonderful Life.txt\", 'Testemunha de Acusação (filme).txt', 'Mary Poppins (filme).txt', 'Toy Story 3.txt', 'The Heiress.txt', 'Citizen Kane.txt', 'Lawrence da Arábia (filme).txt', 'Get Out.txt', 'The Kids Are All Right.txt', 'Top Gun: Maverick.txt', 'O Exorcista.txt', 'O Irlandês.txt', 'La La Land (filme).txt', 'Os Miseráveis (2012).txt', 'The Graduate.txt', 'A Árvore da Vida (2011).txt', 'The Robe.txt', 'Avatar: O Caminho da Água.txt', 'Laranja Mecânica (filme).txt', 'Tubarão (filme).txt', 'The Fighter.txt', 'Patton (filme).txt', \"Don't Look Up.txt\", 'Norma Rae.txt', 'O Grande Ditador.txt', 'Titanic (filme de 1997).txt', 'A Star Is Born (2018).txt', 'Apollo 13 (filme).txt', 'The Grand Budapest Hotel.txt', 'Cisne Negro.txt', 'Babe (1995).txt', 'Rua 42.txt', 'Im Westen nichts Neues (filme).txt', 'The Best Years of Our Lives.txt', 'Hugo (filme).txt', 'Rebecca (1940).txt', \"One Flew Over the Cuckoo's Nest.txt\", 'The Banshees of Inisherin.txt', 'Os Canhões de Navarone.txt', 'Ghost (filme).txt', 'O Capitão Blood.txt', '127 Horas.txt', 'Forrest Gump.txt', 'Crash (2004).txt', 'Battleground (filme).txt', 'Frost_Nixon.txt', 'The Thin Red Line (1998).txt', 'Star Wars: Episódio IV – Uma Nova Esperança.txt', 'Moneyball.txt', 'O Discurso do Rei.txt', 'Cleópatra (1963).txt', 'Inglourious Basterds.txt', 'Cavalgada (filme).txt', 'À Espera de um Milagre.txt', 'Raiders of the Lost Ark.txt', '1917 (filme).txt', 'Working Girl.txt', 'Joker (filme).txt', 'Distrito 9.txt', 'Black Panther (filme).txt', 'Passagem para a Índia (filme).txt', 'Bonnie and Clyde.txt', 'Dead End.txt', 'O Lobo de Wall Street.txt', 'The Deer Hunter.txt', 'The Departed.txt', 'Roma (filme de 2018).txt', 'Bohemian Rhapsody (filme).txt', 'E.T. O Extraterrestre.txt', 'Perdido em Marte.txt', 'Picnic (filme).txt', 'Beleza Americana.txt', 'Django Unchained.txt', 'The Lord of the Rings: The Fellowship of the Ring.txt', 'Zorba, o Grego (filme).txt', 'O Beijo da Mulher Aranha.txt', 'Pulp Fiction.txt', 'The Lord of the Rings: The Return of the King.txt', 'Avatar (filme).txt', 'O Expresso de Xangai.txt', \"The Bishop's Wife.txt\", 'Braveheart.txt', 'Everything Everywhere All at Once.txt', 'Little Miss Sunshine.txt', 'Mrs. Miniver.txt', \"A Soldier's Story.txt\", 'O Fugitivo (1993).txt', 'De Ilusão Também Se Vive.txt', 'Atração Fatal.txt', 'Unforgiven.txt', 'A Conquista do Oeste.txt', 'Consciências Mortas.txt', 'Lost in Translation.txt', 'Funny Girl.txt', 'O Homem Elefante.txt', 'Chicago (filme de 2002).txt', 'Ligações Perigosas (filme).txt', 'Taxi Driver.txt', 'Driving Miss Daisy.txt', 'Ben-Hur.txt', 'Five Easy Pieces.txt', 'Lincoln (filme).txt', 'Lady for a Day.txt', 'Call Me by Your Name.txt', 'Ford v Ferrari.txt', 'The Curious Case of Benjamin Button.txt', 'The Godfather Part III.txt', 'Beauty and the Beast (filme de 1991).txt', 'A Rede Social.txt', 'Doutor Jivago (filme).txt', 'Casablanca (filme).txt'], \n",
    "1: ['A Room with a View.txt', 'A Divorciada.txt', 'Bugsy.txt', 'Laços de Ternura.txt', 'Minari.txt', 'East Lynne (1931).txt', 'Silver Linings Playbook.txt', 'Double Indemnity.txt', 'Erin Brockovich (filme).txt', 'Perfume de Mulher (1992).txt', 'Chocolate (filme).txt', 'Quatro Casamentos e Um Funeral.txt', 'Roman Holiday.txt', 'O Veredicto.txt', 'O Fio da Navalha (1946).txt', 'Hello, Dolly!.txt', 'Fanny (filme).txt', 'Ou Tudo ou Nada.txt', 'O Príncipe das Marés.txt', 'Uma Hora Contigo.txt', 'A Rosa Tatuada.txt', 'A Man for All Seasons.txt', 'Broadway Melody of 1936.txt', 'Arrowsmith (filme).txt', 'The Sand Pebbles.txt', 'O Céu Pode Esperar (1978).txt', 'Spellbound (1945).txt', 'The Apartment.txt', 'The Quiet Man.txt', 'West Side Story (2021).txt', 'In the Bedroom.txt', 'O Pai da Noiva (1950).txt', 'Gigi (filme).txt', 'One Night of Love.txt', 'America, America.txt', 'The Music Man.txt', 'Stage Door.txt', 'Dodsworth.txt', 'Broadcast News.txt', 'Pygmalion.txt', 'Moonstruck.txt', 'Alfie.txt', 'Boyhood.txt', 'Tom Jones (1963).txt', 'Horizonte Perdido (1937).txt', 'Kitty Foyle.txt', 'Love Affair (1939).txt', 'Naughty Marietta.txt', 'O Aviador.txt', 'The Red Shoes.txt', '7th Heaven (1927).txt', 'Coming Home (1978).txt', 'Tender Mercies.txt', 'Love Story (1970).txt', 'A Letter to Three Wives.txt', 'Alice Adams.txt'], \n",
    "2: ['In Old Chicago.txt', 'Kramer vs. Kramer.txt', 'To Kill a Mockingbird (filme).txt', 'Seven Brides for Seven Brothers.txt', 'Philomena.txt', 'All This, and Heaven Too.txt', 'On Golden Pond.txt', 'Judgment at Nuremberg.txt', 'Julia (filme).txt', 'Arrival (filme).txt', 'Rain Man.txt', 'Goodfellas.txt', 'Gosford Park.txt', \"Guess Who's Coming to Dinner.txt\", 'O Diário de Anne Frank.txt', 'The Snake Pit.txt', 'Hold Back the Dawn.txt', 'Meia-Noite em Paris.txt', 'Viskningar och rop.txt', 'Moulin Rouge!.txt', 'Chariots of Fire.txt', 'The Good Earth.txt', 'An Education.txt', 'A Rainha.txt', 'Watch on the Rhine.txt', 'Cabaret (filme).txt', 'Gaslight.txt', 'Cavalo de Guerra.txt', 'Fiddler on the Roof (filme).txt', 'Howards End (filme).txt', 'A Vida É Bela.txt', 'Since You Went Away.txt', 'O Tenente Sedutor.txt', 'Ivanhoe (1952).txt', 'A Cor Púrpura (filme de 1985).txt', 'Birdman ou (A Inesperada Virtude da Ignorância).txt', 'Gangs of New York.txt', 'Lanceiros da Índia.txt', 'Ninotchka.txt', \"King Solomon's Mines (filme de 1950).txt\", '49th Parallel.txt', 'Vidas Separadas.txt', 'Reds.txt', 'Os Descendentes.txt', 'Uma Loira para Três.txt', 'Atonement.txt', 'Argo (filme).txt', 'The Crying Game.txt', 'A Carta (1940).txt', 'Sense and Sensibility (filme).txt', 'True Grit (2010).txt', 'Imitation of Life (1934).txt', 'Jezebel.txt', 'Three Coins in the Fountain.txt', 'As Horas (filme).txt', 'All About Eve.txt', 'A Canção de Bernadette.txt', 'A Favorita (filme).txt', 'Tess (filme).txt', 'Elizabeth (filme).txt', 'Oliver!.txt', 'Adversidade.txt', 'A Ponte do Rio Kwai.txt', 'Women Talking.txt', 'The Killing Fields.txt', \"The Nun's Story.txt\", 'O Último Imperador.txt', 'An American in Paris.txt', 'My Fair Lady.txt', 'A Streetcar Named Desire.txt', 'Trader Horn.txt', 'The Private Life of Henry VIII.txt', 'Traffic (filme).txt', 'A Farewell to Arms (1932).txt', 'West Side Story (1961).txt', 'The Philadelphia Story.txt', 'Selma (filme).txt', 'Wuthering Heights (filme de 1939).txt', 'Shakespeare in Love.txt', 'The Turning Point (1977).txt'],\n",
    "3: ['Three Billboards Outside Ebbing, Missouri.txt', 'Jerry Maguire.txt', 'The Towering Inferno.txt', 'Mr. Smith Goes to Washington.txt', 'Midnight Cowboy.txt', 'Um Lugar no Coração.txt', '12 Angry Men.txt', 'From Here to Eternity.txt', 'The Yearling.txt', 'Uma Mente Brilhante.txt', 'O Turista Acidental.txt', 'Lilies of the Field (1963).txt', 'Elvis (filme de 2022).txt', \"Prizzi's Honor.txt\", 'The Big House.txt', 'The Hurt Locker.txt', 'Heaven Can Wait (1943).txt', 'Giant (filme).txt', 'How Green Was My Valley.txt', 'A Forma da Água.txt', 'The Barretts of Wimpole Street.txt', 'Marty.txt', 'Dark Victory.txt', 'Suspeita.txt', 'Foreign Correspondent.txt', 'Life of Pi (filme).txt', 'The Russians Are Coming, the Russians Are Coming.txt', 'The Awful Truth.txt', 'A Few Good Men.txt', 'Um Homem Sério.txt', 'The Greatest Show on Earth.txt', 'The French Connection.txt', 'Finding Neverland.txt', 'Johnny Belinda.txt', 'All Quiet on the Western Front.txt', 'The Front Page (1931).txt', 'Relíquia Macabra.txt', 'Juno (filme).txt', 'Farrapo Humano.txt', 'Um Lugar ao Sol (filme).txt', 'The More the Merrier.txt', 'Atlantic City (1980).txt', 'Seabiscuit.txt', 'The Patriot (filme de 1928).txt', 'Born Yesterday.txt', 'Quiz Show.txt', 'Promising Young Woman.txt', 'Anatomia de um Crime.txt', 'Chinatown (filme).txt', 'Mr. Deeds Goes to Town.txt', 'Milk (filme).txt', 'Deliverance (filme).txt', 'Anchors Aweigh.txt', 'Dances with Wolves.txt', 'Manchester by the Sea.txt', 'David Copperfield (1935).txt', 'Tootsie.txt', 'Flirtation Walk.txt', \"You Can't Take It with You.txt\", 'Cat on a Hot Tin Roof (filme).txt', 'Mister Roberts.txt', 'O Sexto Sentido.txt', 'Million Dollar Baby.txt', 'Annie Hall.txt', 'Stagecoach (1939).txt', 'The Racket (1928).txt', 'I Am a Fugitive from a Chain Gang.txt', 'Sunset Boulevard.txt', 'Nebraska (filme).txt', 'The Remains of the Day (filme).txt', 'Disraeli (1929).txt', 'A Testemunha.txt', 'Decision Before Dawn.txt', 'Beasts of the Southern Wild.txt', 'Aeroporto (filme).txt', 'The Pride of the Yankees.txt', 'Libeled Lady.txt', 'Network (filme).txt', 'O Jogo da Imitação.txt', 'The Magnificent Ambersons (1942).txt', 'The Adventures of Robin Hood.txt', 'O Tesouro de Sierra Madre.txt', 'O Expresso da Meia-Noite.txt', 'Mutiny on the Bounty (1962).txt', 'Skippy.txt', 'Boys Town (filme).txt', 'It Happened One Night.txt', 'Fargo (filme).txt', 'Of Mice and Men (1939).txt', 'Em Nome do Pai.txt', 'Viva Villa!.txt', \"Coal Miner's Daughter.txt\", 'Butch Cassidy and the Sundance Kid.txt', 'In Which We Serve.txt', 'The Sting.txt', 'O Piano.txt', 'Ray (filme).txt', 'Doctor Dolittle (1967).txt', 'Extremely Loud and Incredibly Close.txt', 'There Will Be Blood.txt', 'Melhor É Impossível.txt', 'Good Will Hunting.txt', 'The Alamo (1960).txt', 'Top Hat.txt', 'Grande Hotel (filme).txt', 'The Revenant.txt', 'Test Pilot.txt', 'A Missão.txt', 'Ordinary People.txt', 'Mad Max: Estrada da Fúria.txt', 'The Life of Emile Zola.txt', 'Whiplash (filme).txt', 'Alma em Suplício.txt', 'Henrique V (filme de 1944).txt'], \n",
    "4: ['Por Quem os Sinos Dobram (filme).txt', 'Five Star Final.txt', 'The Broadway Melody.txt', 'As Quatro Irmãs.txt', 'Os Emigrantes.txt', 'Friendly Persuasion.txt', 'JFK (filme).txt', 'Mank (filme).txt', 'Asas (filme).txt', 'Cimarron (1931).txt', 'Shine (filme).txt', 'Babel (filme).txt', 'The Longest Day.txt', 'All That Jazz.txt', 'Tár.txt', 'Yankee Doodle Dandy.txt', 'O Artista.txt', 'Raging Bull.txt', 'Gandhi (filme).txt', 'Em Cada Coração um Pecado.txt', 'The Big Chill.txt', 'Os Fabelmans.txt', 'The Little Foxes.txt', 'Sounder.txt', \"All the King's Men (1949).txt\", 'Sayonara.txt', 'A Luz É para Todos.txt', 'Darling (filme).txt', 'The Conversation.txt', 'American Graffiti.txt', '12 Years a Slave.txt', 'The Defiant Ones.txt', 'A Volta ao Mundo em 80 Dias (1956).txt', 'As Vinhas da Ira (filme).txt', 'MASH (filme).txt', 'Darkest Hour (filme).txt', 'Crossfire (filme).txt', 'L.A. Confidential.txt', 'Um Dia de Cão.txt', 'A Grande Ilusão (1937).txt', 'The Insider.txt', 'Mutiny on the Bounty (1935).txt', 'Marriage Story.txt', 'O Tigre e o Dragão (filme).txt', 'The Great Ziegfeld.txt', 'No Calor da Noite (filme).txt', 'Boa Noite, e Boa Sorte.txt', 'Born on the Fourth of July.txt', 'Awakenings.txt', 'Peyton Place (filme).txt', 'Capote.txt', 'Mississípi em Chamas.txt', 'Here Comes Mr. Jordan.txt', 'My Left Foot.txt', 'Nomadland.txt', 'Lenny (filme).txt', 'Z (filme).txt', 'O Bom Pastor (1944).txt', 'The Caine Mutiny.txt', 'Dr. Strangelove or: How I Learned to Stop Worrying and Love the Bomb.txt'], \n",
    "}"
   ]
  },
  {
   "cell_type": "code",
   "execution_count": 35,
   "metadata": {},
   "outputs": [
    {
     "data": {
      "text/plain": [
       "11.956521739130435"
      ]
     },
     "execution_count": 35,
     "metadata": {},
     "output_type": "execute_result"
    }
   ],
   "source": [
    "def similarity_compute(first_list, second_list):\n",
    "   # take count variable two count intersection numbers among the list\n",
    "   count = 0\n",
    "   # Traverse the first list\n",
    "   for element in first_list:\n",
    "      # for if the second list has the element in the first list \n",
    "      if element in second_list:\n",
    "         # increment the value\n",
    "         count += 1\n",
    "   #Compute the similarity percentage  \n",
    "   similarity_percentage = (count / len(first_list)) * 100\n",
    "   return similarity_percentage\n",
    "\n",
    "# if len(c1) > len(c2):\n",
    "#    for i in range(len(c1) - len(c2)):\n",
    "#     c2.append(\"\")\n",
    "# elif len(c2) > len(c1):\n",
    "#    for i in range(len(c2) - len(c1)):\n",
    "#     c1.append(\"\")\n",
    "\n",
    "similarity_compute(c1, c2)"
   ]
  },
  {
   "cell_type": "code",
   "execution_count": 60,
   "metadata": {},
   "outputs": [],
   "source": [
    "def similarity_compute2(l1, l2):\n",
    "    # Find the number of common elements in both lists\n",
    "    common_elements = set(l1).intersection(set(l2))\n",
    "    num_common_elements = len(common_elements)\n",
    "    \n",
    "    # Find the total number of unique elements in both lists\n",
    "    total_elements = set(l1).union(set(l2))\n",
    "    num_total_elements = len(total_elements)\n",
    "    \n",
    "    # Calculate the percentage similarity\n",
    "    percentage_similarity = (num_common_elements / num_total_elements) * 100\n",
    "    return percentage_similarity"
   ]
  },
  {
   "cell_type": "code",
   "execution_count": 72,
   "metadata": {},
   "outputs": [
    {
     "name": "stdout",
     "output_type": "stream",
     "text": [
      "Cluster 0\n",
      "3.9473684210526314\n",
      "0.0\n",
      "7.307692307692308\n",
      "1.2396694214876034\n",
      "\n",
      "\n",
      "Cluster 1\n",
      "9.824561403508772\n",
      "2.7027027027027026\n",
      "1.098901098901099\n",
      "2.109704641350211\n",
      "\n",
      "\n",
      "Cluster 2\n",
      "1.9762845849802373\n",
      "6.790123456790123\n",
      "0.45454545454545453\n",
      "1.6304347826086956\n",
      "\n",
      "\n",
      "Cluster 3\n",
      "0.8130081300813009\n",
      "1.875\n",
      "2.4271844660194173\n",
      "0.5681818181818182\n",
      "\n",
      "\n"
     ]
    }
   ],
   "source": [
    "j = 0\n",
    "for key, cluster in clusters_en.items():\n",
    "    print(f\"Cluster {j}\")\n",
    "    for i in range(4):\n",
    "        print(similarity_compute2(cluster, clusters_es[i]))\n",
    "    j += 1\n",
    "    print(\"\\n\")"
   ]
  },
  {
   "cell_type": "code",
   "execution_count": 71,
   "metadata": {},
   "outputs": [
    {
     "name": "stdout",
     "output_type": "stream",
     "text": [
      "Cluster 0\n",
      "4.013377926421405\n",
      "4.568527918781726\n",
      "2.6785714285714284\n",
      "4.761904761904762\n",
      "3.9603960396039604\n",
      "\n",
      "Cluster 1\n",
      "6.206896551724138\n",
      "1.5\n",
      "2.7149321266968327\n",
      "6.097560975609756\n",
      "2.4752475247524752\n",
      "\n",
      "Cluster 2\n",
      "4.979253112033195\n",
      "0.6802721088435374\n",
      "2.380952380952381\n",
      "3.5175879396984926\n",
      "1.3333333333333335\n",
      "\n",
      "Cluster 3\n",
      "2.9661016949152543\n",
      "0.0\n",
      "3.8461538461538463\n",
      "1.0309278350515463\n",
      "0.0\n",
      "\n"
     ]
    }
   ],
   "source": [
    "j = 0\n",
    "for key, cluster in clusters_en.items():\n",
    "    print(f\"Cluster {j}\")\n",
    "    for i in range(5):\n",
    "        print(similarity_compute2(cluster, clusters_pt[i]))\n",
    "    j += 1\n",
    "    print(\"\")"
   ]
  },
  {
   "cell_type": "code",
   "execution_count": 70,
   "metadata": {},
   "outputs": [
    {
     "name": "stdout",
     "output_type": "stream",
     "text": [
      "Cluster 0\n",
      "5.825242718446602\n",
      "2.7777777777777777\n",
      "3.361344537815126\n",
      "4.868913857677903\n",
      "2.727272727272727\n",
      "Cluster 1\n",
      "4.310344827586207\n",
      "0.7352941176470588\n",
      "3.205128205128205\n",
      "3.1746031746031744\n",
      "0.7142857142857143\n",
      "Cluster 2\n",
      "4.316546762589928\n",
      "3.35195530726257\n",
      "3.4653465346534658\n",
      "4.291845493562231\n",
      "0.5319148936170213\n",
      "Cluster 3\n",
      "1.5873015873015872\n",
      "1.342281879194631\n",
      "2.3391812865497075\n",
      "2.450980392156863\n",
      "0.6493506493506493\n"
     ]
    }
   ],
   "source": [
    "j = 0\n",
    "for key, cluster in clusters_es.items():\n",
    "    print(f\"Cluster {j}\")\n",
    "    for i in range(5):\n",
    "        print(similarity_compute2(cluster, clusters_pt[i]))\n",
    "    j += 1"
   ]
  },
  {
   "cell_type": "code",
   "execution_count": 69,
   "metadata": {},
   "outputs": [
    {
     "name": "stdout",
     "output_type": "stream",
     "text": [
      "Cluster 0\n",
      "3.9473684210526314\n",
      "9.824561403508772\n",
      "1.9762845849802373\n",
      "0.8130081300813009\n",
      "Cluster 1\n",
      "0.0\n",
      "2.7027027027027026\n",
      "6.790123456790123\n",
      "1.875\n",
      "Cluster 2\n",
      "7.307692307692308\n",
      "1.098901098901099\n",
      "0.45454545454545453\n",
      "2.4271844660194173\n",
      "Cluster 3\n",
      "1.2396694214876034\n",
      "2.109704641350211\n",
      "1.6304347826086956\n",
      "0.5681818181818182\n"
     ]
    }
   ],
   "source": [
    "j = 0\n",
    "for key, cluster in clusters_es.items():\n",
    "    print(f\"Cluster {j}\")\n",
    "    for i in range(4):\n",
    "        print(similarity_compute2(cluster, clusters_en[i]))\n",
    "    j += 1"
   ]
  },
  {
   "cell_type": "code",
   "execution_count": 68,
   "metadata": {},
   "outputs": [
    {
     "name": "stdout",
     "output_type": "stream",
     "text": [
      "Cluster 0\n",
      "4.013377926421405\n",
      "6.206896551724138\n",
      "4.979253112033195\n",
      "2.9661016949152543\n",
      "Cluster 1\n",
      "4.568527918781726\n",
      "1.5\n",
      "0.6802721088435374\n",
      "0.0\n",
      "Cluster 2\n",
      "2.6785714285714284\n",
      "2.7149321266968327\n",
      "2.380952380952381\n",
      "3.8461538461538463\n",
      "Cluster 3\n",
      "4.761904761904762\n",
      "6.097560975609756\n",
      "3.5175879396984926\n",
      "1.0309278350515463\n",
      "Cluster 4\n",
      "3.9603960396039604\n",
      "2.4752475247524752\n",
      "1.3333333333333335\n",
      "0.0\n"
     ]
    }
   ],
   "source": [
    "j = 0\n",
    "for key, cluster in clusters_pt.items():\n",
    "    print(f\"Cluster {j}\")\n",
    "    for i in range(4):\n",
    "        print(similarity_compute2(cluster, clusters_en[i]))\n",
    "    j += 1"
   ]
  },
  {
   "cell_type": "code",
   "execution_count": 67,
   "metadata": {},
   "outputs": [
    {
     "name": "stdout",
     "output_type": "stream",
     "text": [
      "Cluster 0\n",
      "5.825242718446602\n",
      "4.310344827586207\n",
      "4.316546762589928\n",
      "1.5873015873015872\n",
      "Cluster 1\n",
      "2.7777777777777777\n",
      "0.7352941176470588\n",
      "3.35195530726257\n",
      "1.342281879194631\n",
      "Cluster 2\n",
      "3.361344537815126\n",
      "3.205128205128205\n",
      "3.4653465346534658\n",
      "2.3391812865497075\n",
      "Cluster 3\n",
      "4.868913857677903\n",
      "3.1746031746031744\n",
      "4.291845493562231\n",
      "2.450980392156863\n",
      "Cluster 4\n",
      "2.727272727272727\n",
      "0.7142857142857143\n",
      "0.5319148936170213\n",
      "0.6493506493506493\n"
     ]
    }
   ],
   "source": [
    "j = 0\n",
    "for key, cluster in clusters_pt.items():\n",
    "    print(f\"Cluster {j}\")\n",
    "    for i in range(4):\n",
    "        print(similarity_compute2(cluster, clusters_es[i]))\n",
    "    j += 1"
   ]
  }
 ],
 "metadata": {
  "kernelspec": {
   "display_name": "Python 3",
   "language": "python",
   "name": "python3"
  },
  "language_info": {
   "codemirror_mode": {
    "name": "ipython",
    "version": 3
   },
   "file_extension": ".py",
   "mimetype": "text/x-python",
   "name": "python",
   "nbconvert_exporter": "python",
   "pygments_lexer": "ipython3",
   "version": "3.11.5"
  },
  "orig_nbformat": 4
 },
 "nbformat": 4,
 "nbformat_minor": 2
}
